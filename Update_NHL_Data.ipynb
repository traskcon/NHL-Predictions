{
 "cells": [
  {
   "cell_type": "markdown",
   "id": "a0cb6883",
   "metadata": {},
   "source": [
    "# Update NHL Data\n",
    "\n",
    "This Jupyter Notebook is scheduled to run every day, scraping MoneyPuck, Odds, and historical game data from MoneyPuck, ESPN, and Hockey Reference. The results are stored in csv files to be manually committed to the github when convienient."
   ]
  },
  {
   "cell_type": "code",
   "execution_count": 1,
   "id": "8b713886",
   "metadata": {
    "tags": []
   },
   "outputs": [],
   "source": [
    "# Import required libraries\n",
    "import numpy as np\n",
    "import pandas as pd\n",
    "import requests \n",
    "from bs4 import BeautifulSoup\n",
    "import warnings \n",
    "warnings.filterwarnings(\"ignore\")\n",
    "import matplotlib.pyplot as plt\n",
    "import datetime as dt\n",
    "\n",
    "#!pip install selenium\n",
    "#!pip install webdriver_manager\n",
    "#!pip install jupyter_scheduler\n",
    "from selenium import webdriver \n",
    "from selenium.webdriver.common.by import By\n",
    "from selenium.webdriver.chrome.service import Service as ChromeService \n",
    "from webdriver_manager.chrome import ChromeDriverManager "
   ]
  },
  {
   "cell_type": "markdown",
   "id": "77dd6959-c04f-4f68-a63b-93d12d41361b",
   "metadata": {},
   "source": [
    "## Scrape MoneyPuck Data"
   ]
  },
  {
   "cell_type": "code",
   "execution_count": 2,
   "id": "c9f8fb5d",
   "metadata": {
    "tags": []
   },
   "outputs": [],
   "source": [
    "def get_todays_matchups():\n",
    "    date = dt.date.today()\n",
    "    url = \"https://moneypuck.com/index.html?date=\" + str(date)\n",
    "    return url\n",
    "\n",
    "def update_matchups(matchup_df, url=get_todays_matchups()):\n",
    "    options = webdriver.ChromeOptions()  # instantiate options \n",
    "    options.headless = True  # run browser in headless mode \n",
    "    # instantiate driver \n",
    "    driver = webdriver.Chrome() \n",
    "\n",
    "    # load website  \n",
    "    driver.get(url) # get the entire website content \n",
    "\n",
    "    # select win probability table\n",
    "    win_table = driver.find_elements(By.ID, 'includedContent')[0] \n",
    "    games = win_table.find_elements(By.TAG_NAME, \"tr\")\n",
    "    date = str(dt.date.today())\n",
    "    for game in games:\n",
    "        win_probs = game.find_elements(By.TAG_NAME, \"h2\")\n",
    "        teams = game.find_elements(By.TAG_NAME, \"img\")\n",
    "        away_win_prob = win_probs[0].text\n",
    "        home_win_prob = win_probs[1].text\n",
    "        away_team = teams[0].get_attribute(\"alt\")\n",
    "        home_team = teams[1].get_attribute(\"alt\")\n",
    "        away_win_prob = float(away_win_prob.replace(\"%\",\"\"))/100 #Remove % symbol and convert to float (0-1)\n",
    "        home_win_prob = float(home_win_prob.replace(\"%\",\"\"))/100\n",
    "        row = {\"date\":date, \"away_team\":away_team, \"away_win_prob\":away_win_prob, \"home_team\":home_team, \"home_win_prob\":home_win_prob}\n",
    "        matchup_df = matchup_df.append(row, ignore_index=True)\n",
    "    \n",
    "    driver.close()\n",
    "    return matchup_df"
   ]
  },
  {
   "cell_type": "code",
   "execution_count": 3,
   "id": "8ef845bc",
   "metadata": {
    "tags": []
   },
   "outputs": [
    {
     "data": {
      "text/html": [
       "<div>\n",
       "<style scoped>\n",
       "    .dataframe tbody tr th:only-of-type {\n",
       "        vertical-align: middle;\n",
       "    }\n",
       "\n",
       "    .dataframe tbody tr th {\n",
       "        vertical-align: top;\n",
       "    }\n",
       "\n",
       "    .dataframe thead th {\n",
       "        text-align: right;\n",
       "    }\n",
       "</style>\n",
       "<table border=\"1\" class=\"dataframe\">\n",
       "  <thead>\n",
       "    <tr style=\"text-align: right;\">\n",
       "      <th></th>\n",
       "      <th>date</th>\n",
       "      <th>away_team</th>\n",
       "      <th>away_win_prob</th>\n",
       "      <th>home_team</th>\n",
       "      <th>home_win_prob</th>\n",
       "    </tr>\n",
       "  </thead>\n",
       "  <tbody>\n",
       "    <tr>\n",
       "      <th>64</th>\n",
       "      <td>2023-11-14</td>\n",
       "      <td>VEGAS GOLDEN KNIGHTS</td>\n",
       "      <td>0.570</td>\n",
       "      <td>WASHINGTON CAPITALS</td>\n",
       "      <td>0.430</td>\n",
       "    </tr>\n",
       "    <tr>\n",
       "      <th>65</th>\n",
       "      <td>2023-11-14</td>\n",
       "      <td>ARIZONA COYOTES</td>\n",
       "      <td>0.349</td>\n",
       "      <td>DALLAS STARS</td>\n",
       "      <td>0.651</td>\n",
       "    </tr>\n",
       "    <tr>\n",
       "      <th>66</th>\n",
       "      <td>2023-11-14</td>\n",
       "      <td>ANAHEIM DUCKS</td>\n",
       "      <td>0.352</td>\n",
       "      <td>NASHVILLE PREDATORS</td>\n",
       "      <td>0.648</td>\n",
       "    </tr>\n",
       "    <tr>\n",
       "      <th>67</th>\n",
       "      <td>2023-11-14</td>\n",
       "      <td>TAMPA BAY LIGHTNING</td>\n",
       "      <td>0.558</td>\n",
       "      <td>ST. LOUIS BLUES</td>\n",
       "      <td>0.442</td>\n",
       "    </tr>\n",
       "    <tr>\n",
       "      <th>68</th>\n",
       "      <td>2023-11-14</td>\n",
       "      <td>NEW JERSEY DEVILS</td>\n",
       "      <td>0.442</td>\n",
       "      <td>WINNIPEG JETS</td>\n",
       "      <td>0.558</td>\n",
       "    </tr>\n",
       "    <tr>\n",
       "      <th>69</th>\n",
       "      <td>2023-11-14</td>\n",
       "      <td>FLORIDA PANTHERS</td>\n",
       "      <td>0.722</td>\n",
       "      <td>SAN JOSE SHARKS</td>\n",
       "      <td>0.278</td>\n",
       "    </tr>\n",
       "    <tr>\n",
       "      <th>70</th>\n",
       "      <td>2023-11-15</td>\n",
       "      <td>PHILADELPHIA FLYERS</td>\n",
       "      <td>0.330</td>\n",
       "      <td>CAROLINA HURRICANES</td>\n",
       "      <td>0.670</td>\n",
       "    </tr>\n",
       "    <tr>\n",
       "      <th>71</th>\n",
       "      <td>2023-11-15</td>\n",
       "      <td>SEATTLE KRAKEN</td>\n",
       "      <td>0.332</td>\n",
       "      <td>EDMONTON OILERS</td>\n",
       "      <td>0.668</td>\n",
       "    </tr>\n",
       "    <tr>\n",
       "      <th>72</th>\n",
       "      <td>2023-11-15</td>\n",
       "      <td>ANAHEIM DUCKS</td>\n",
       "      <td>0.270</td>\n",
       "      <td>COLORADO AVALANCHE</td>\n",
       "      <td>0.730</td>\n",
       "    </tr>\n",
       "    <tr>\n",
       "      <th>73</th>\n",
       "      <td>2023-11-15</td>\n",
       "      <td>NEW YORK ISLANDERS</td>\n",
       "      <td>0.404</td>\n",
       "      <td>VANCOUVER CANUCKS</td>\n",
       "      <td>0.596</td>\n",
       "    </tr>\n",
       "  </tbody>\n",
       "</table>\n",
       "</div>"
      ],
      "text/plain": [
       "          date             away_team  away_win_prob            home_team  \\\n",
       "64  2023-11-14  VEGAS GOLDEN KNIGHTS          0.570  WASHINGTON CAPITALS   \n",
       "65  2023-11-14       ARIZONA COYOTES          0.349         DALLAS STARS   \n",
       "66  2023-11-14         ANAHEIM DUCKS          0.352  NASHVILLE PREDATORS   \n",
       "67  2023-11-14   TAMPA BAY LIGHTNING          0.558      ST. LOUIS BLUES   \n",
       "68  2023-11-14     NEW JERSEY DEVILS          0.442        WINNIPEG JETS   \n",
       "69  2023-11-14      FLORIDA PANTHERS          0.722      SAN JOSE SHARKS   \n",
       "70  2023-11-15   PHILADELPHIA FLYERS          0.330  CAROLINA HURRICANES   \n",
       "71  2023-11-15        SEATTLE KRAKEN          0.332      EDMONTON OILERS   \n",
       "72  2023-11-15         ANAHEIM DUCKS          0.270   COLORADO AVALANCHE   \n",
       "73  2023-11-15    NEW YORK ISLANDERS          0.404    VANCOUVER CANUCKS   \n",
       "\n",
       "    home_win_prob  \n",
       "64          0.430  \n",
       "65          0.651  \n",
       "66          0.648  \n",
       "67          0.442  \n",
       "68          0.558  \n",
       "69          0.278  \n",
       "70          0.670  \n",
       "71          0.668  \n",
       "72          0.730  \n",
       "73          0.596  "
      ]
     },
     "execution_count": 3,
     "metadata": {},
     "output_type": "execute_result"
    }
   ],
   "source": [
    "moneypuck_df = pd.read_csv(\"C:\\\\Users\\\\geniu\\\\Documents\\\\NHL-Predictions\\\\NHL-Predictions\\\\Historical_Moneypuck_Predictions.csv\", index_col=0)\n",
    "try:\n",
    "    moneypuck_df = update_matchups(moneypuck_df)\n",
    "except:\n",
    "    print(\"Web-scraping error with Moneypuck site\")\n",
    "moneypuck_df.tail(10)"
   ]
  },
  {
   "cell_type": "code",
   "execution_count": 4,
   "id": "a7fa78a1",
   "metadata": {
    "tags": []
   },
   "outputs": [],
   "source": [
    "moneypuck_df.to_csv(\"C:\\\\Users\\\\geniu\\\\Documents\\\\NHL-Predictions\\\\NHL-Predictions\\\\Historical_Moneypuck_Predictions.csv\")"
   ]
  },
  {
   "cell_type": "markdown",
   "id": "d416df4a",
   "metadata": {},
   "source": [
    "### Scrape Daily Lines"
   ]
  },
  {
   "cell_type": "code",
   "execution_count": 5,
   "id": "a676c6a8",
   "metadata": {
    "tags": []
   },
   "outputs": [],
   "source": [
    "def convert_odds(odds):\n",
    "    '''Converts a pandas series of odds from american odds to decimal odds'''\n",
    "    if odds < 0: #If team is the favorite (negative american odds)\n",
    "        decimal_odds = -1/(odds/100) + 1\n",
    "    else:\n",
    "        decimal_odds = (odds/100) + 1\n",
    "    return decimal_odds\n",
    "\n",
    "def update_odds(odds_df):\n",
    "    options = webdriver.ChromeOptions()  # instantiate options \n",
    "    options.headless = True  # run browser in headless mode \n",
    "    # instantiate driver \n",
    "    driver = webdriver.Chrome(options=options)\n",
    "    driver.get('https://www.espn.com/nhl/lines') # get the entire website content\n",
    "\n",
    "    date = str(dt.date.today())\n",
    "    games = driver.find_elements(By.TAG_NAME, 'tr')\n",
    "    i = 0\n",
    "    for game in games:\n",
    "        game_str = game.text\n",
    "        if i % 3 != 0: #Skip the header of every table\n",
    "            team_data = game_str.splitlines()\n",
    "            odds_line = team_data[-1] #Line containing each team's odds is the last of the table\n",
    "            odds_line = odds_line.split(\" \")\n",
    "            if len(odds_line) == 6: #The over is always listed on the away team's row\n",
    "                away_team = team_data[0].upper()\n",
    "                away_odds = convert_odds(int(odds_line[2])) #Have to account for the goalie name being split\n",
    "                over_under = float(odds_line[3])\n",
    "                away_puck_line = float(odds_line[4])\n",
    "                away_puck_odds = convert_odds(int(odds_line[5]))\n",
    "            else:\n",
    "                home_team = team_data[0].upper()\n",
    "                home_odds = convert_odds(int(odds_line[2]))\n",
    "                home_puck_line = float(odds_line[3])\n",
    "                home_puck_odds = convert_odds(int(odds_line[4]))\n",
    "        elif i > 0:\n",
    "            row = {\"date\": date, \"away_team\":away_team, \"away_odds\":away_odds, \"home_team\":home_team, \"home_odds\":home_odds,\n",
    "                   \"over_under\":over_under, \"away_puck_line\":away_puck_line, \"away_puck_odds\":away_puck_odds, \n",
    "                   \"home_puck_line\":home_puck_line, \"home_puck_odds\":home_puck_odds}\n",
    "            odds_df = odds_df.append(row, ignore_index=True)\n",
    "        i += 1\n",
    "    driver.close()\n",
    "    return odds_df"
   ]
  },
  {
   "cell_type": "code",
   "execution_count": 7,
   "id": "71f46a2c",
   "metadata": {
    "tags": []
   },
   "outputs": [
    {
     "ename": "IndexError",
     "evalue": "list index out of range",
     "output_type": "error",
     "traceback": [
      "\u001b[1;31m---------------------------------------------------------------------------\u001b[0m",
      "\u001b[1;31mIndexError\u001b[0m                                Traceback (most recent call last)",
      "Cell \u001b[1;32mIn[7], line 2\u001b[0m\n\u001b[0;32m      1\u001b[0m odds_df \u001b[38;5;241m=\u001b[39m pd\u001b[38;5;241m.\u001b[39mread_csv(\u001b[38;5;124m\"\u001b[39m\u001b[38;5;124mC:\u001b[39m\u001b[38;5;130;01m\\\\\u001b[39;00m\u001b[38;5;124mUsers\u001b[39m\u001b[38;5;130;01m\\\\\u001b[39;00m\u001b[38;5;124mgeniu\u001b[39m\u001b[38;5;130;01m\\\\\u001b[39;00m\u001b[38;5;124mDocuments\u001b[39m\u001b[38;5;130;01m\\\\\u001b[39;00m\u001b[38;5;124mNHL-Predictions\u001b[39m\u001b[38;5;130;01m\\\\\u001b[39;00m\u001b[38;5;124mNHL-Predictions\u001b[39m\u001b[38;5;130;01m\\\\\u001b[39;00m\u001b[38;5;124mHistorical_Odds.csv\u001b[39m\u001b[38;5;124m\"\u001b[39m, index_col\u001b[38;5;241m=\u001b[39m\u001b[38;5;241m0\u001b[39m)\n\u001b[1;32m----> 2\u001b[0m odds_df \u001b[38;5;241m=\u001b[39m update_odds(odds_df)\n\u001b[0;32m      3\u001b[0m odds_df\u001b[38;5;241m.\u001b[39mtail(\u001b[38;5;241m10\u001b[39m)\n",
      "Cell \u001b[1;32mIn[5], line 23\u001b[0m, in \u001b[0;36mupdate_odds\u001b[1;34m(odds_df)\u001b[0m\n\u001b[0;32m     21\u001b[0m \u001b[38;5;28;01mif\u001b[39;00m i \u001b[38;5;241m%\u001b[39m \u001b[38;5;241m3\u001b[39m \u001b[38;5;241m!=\u001b[39m \u001b[38;5;241m0\u001b[39m: \u001b[38;5;66;03m#Skip the header of every table\u001b[39;00m\n\u001b[0;32m     22\u001b[0m     team_data \u001b[38;5;241m=\u001b[39m game_str\u001b[38;5;241m.\u001b[39msplitlines()\n\u001b[1;32m---> 23\u001b[0m     odds_line \u001b[38;5;241m=\u001b[39m team_data[\u001b[38;5;241m-\u001b[39m\u001b[38;5;241m1\u001b[39m] \u001b[38;5;66;03m#Line containing each team's odds is the last of the table\u001b[39;00m\n\u001b[0;32m     24\u001b[0m     odds_line \u001b[38;5;241m=\u001b[39m odds_line\u001b[38;5;241m.\u001b[39msplit(\u001b[38;5;124m\"\u001b[39m\u001b[38;5;124m \u001b[39m\u001b[38;5;124m\"\u001b[39m)\n\u001b[0;32m     25\u001b[0m     \u001b[38;5;28;01mif\u001b[39;00m \u001b[38;5;28mlen\u001b[39m(odds_line) \u001b[38;5;241m==\u001b[39m \u001b[38;5;241m6\u001b[39m: \u001b[38;5;66;03m#The over is always listed on the away team's row\u001b[39;00m\n",
      "\u001b[1;31mIndexError\u001b[0m: list index out of range"
     ]
    }
   ],
   "source": [
    "odds_df = pd.read_csv(\"C:\\\\Users\\\\geniu\\\\Documents\\\\NHL-Predictions\\\\NHL-Predictions\\\\Historical_Odds.csv\", index_col=0)\n",
    "try:\n",
    "    odds_df = update_odds(odds_df)\n",
    "except:\n",
    "    print(\"Web-scraping error with ESPN Odds\")\n",
    "odds_df.tail(10)"
   ]
  },
  {
   "cell_type": "code",
   "execution_count": 36,
   "id": "0b3a5adb",
   "metadata": {
    "tags": []
   },
   "outputs": [],
   "source": [
    "odds_df.to_csv(\"C:\\\\Users\\\\geniu\\\\Documents\\\\NHL-Predictions\\\\NHL-Predictions\\\\Historical_Odds.csv\")"
   ]
  },
  {
   "cell_type": "markdown",
   "id": "690947cd-1f4d-49d3-aa4e-853dfad3e42e",
   "metadata": {},
   "source": [
    "### Scrape Past Games"
   ]
  },
  {
   "cell_type": "code",
   "execution_count": 8,
   "id": "37c52472",
   "metadata": {
    "tags": []
   },
   "outputs": [],
   "source": [
    "def update_past_games(historical_df):\n",
    "    hockey_scores = requests.get(\"https://www.hockey-reference.com/boxscores/\")\n",
    "    soup = BeautifulSoup(hockey_scores.text)\n",
    "    games = soup.find_all(attrs={\"class\":\"teams\"})\n",
    "    date = str(dt.date.today() - dt.timedelta(days=1))\n",
    "    for game in games: \n",
    "        teams = game.find_all(\"a\")[::2] #Ignore the \"Final\", since it's not a team\n",
    "        scores = game.find_all(attrs={\"class\":\"right\"})[:3:2]\n",
    "        i = 0\n",
    "        for team, score in zip(teams,scores):\n",
    "            if i % 2 == 0:\n",
    "                away_team = team.get_text().upper()\n",
    "                away_score = score.get_text()\n",
    "            else:\n",
    "                home_team = team.get_text().upper()\n",
    "                home_score = score.get_text()\n",
    "                row = {\"date\": date, \"away_team\":away_team, \"away_score\":away_score, \"home_team\":home_team, \"home_score\":home_score}\n",
    "                historical_df = historical_df.append(row, ignore_index=True)\n",
    "            i += 1\n",
    "\n",
    "    return historical_df"
   ]
  },
  {
   "cell_type": "code",
   "execution_count": 9,
   "id": "9651e1b9",
   "metadata": {
    "tags": []
   },
   "outputs": [
    {
     "data": {
      "text/html": [
       "<div>\n",
       "<style scoped>\n",
       "    .dataframe tbody tr th:only-of-type {\n",
       "        vertical-align: middle;\n",
       "    }\n",
       "\n",
       "    .dataframe tbody tr th {\n",
       "        vertical-align: top;\n",
       "    }\n",
       "\n",
       "    .dataframe thead th {\n",
       "        text-align: right;\n",
       "    }\n",
       "</style>\n",
       "<table border=\"1\" class=\"dataframe\">\n",
       "  <thead>\n",
       "    <tr style=\"text-align: right;\">\n",
       "      <th></th>\n",
       "      <th>date</th>\n",
       "      <th>away_team</th>\n",
       "      <th>away_score</th>\n",
       "      <th>home_team</th>\n",
       "      <th>home_score</th>\n",
       "    </tr>\n",
       "  </thead>\n",
       "  <tbody>\n",
       "    <tr>\n",
       "      <th>82</th>\n",
       "      <td>2023-11-14</td>\n",
       "      <td>ANAHEIM DUCKS</td>\n",
       "      <td>3</td>\n",
       "      <td>NASHVILLE PREDATORS</td>\n",
       "      <td>2</td>\n",
       "    </tr>\n",
       "    <tr>\n",
       "      <th>83</th>\n",
       "      <td>2023-11-14</td>\n",
       "      <td>FLORIDA PANTHERS</td>\n",
       "      <td>5</td>\n",
       "      <td>SAN JOSE SHARKS</td>\n",
       "      <td>3</td>\n",
       "    </tr>\n",
       "    <tr>\n",
       "      <th>84</th>\n",
       "      <td>2023-11-14</td>\n",
       "      <td>TAMPA BAY LIGHTNING</td>\n",
       "      <td>0</td>\n",
       "      <td>ST. LOUIS BLUES</td>\n",
       "      <td>5</td>\n",
       "    </tr>\n",
       "    <tr>\n",
       "      <th>85</th>\n",
       "      <td>2023-11-14</td>\n",
       "      <td>NEW JERSEY DEVILS</td>\n",
       "      <td>3</td>\n",
       "      <td>WINNIPEG JETS</td>\n",
       "      <td>6</td>\n",
       "    </tr>\n",
       "    <tr>\n",
       "      <th>86</th>\n",
       "      <td>2023-11-14</td>\n",
       "      <td>VEGAS GOLDEN KNIGHTS</td>\n",
       "      <td>0</td>\n",
       "      <td>WASHINGTON CAPITALS</td>\n",
       "      <td>3</td>\n",
       "    </tr>\n",
       "  </tbody>\n",
       "</table>\n",
       "</div>"
      ],
      "text/plain": [
       "          date             away_team away_score            home_team  \\\n",
       "82  2023-11-14         ANAHEIM DUCKS          3  NASHVILLE PREDATORS   \n",
       "83  2023-11-14      FLORIDA PANTHERS          5      SAN JOSE SHARKS   \n",
       "84  2023-11-14   TAMPA BAY LIGHTNING          0      ST. LOUIS BLUES   \n",
       "85  2023-11-14     NEW JERSEY DEVILS          3        WINNIPEG JETS   \n",
       "86  2023-11-14  VEGAS GOLDEN KNIGHTS          0  WASHINGTON CAPITALS   \n",
       "\n",
       "   home_score  \n",
       "82          2  \n",
       "83          3  \n",
       "84          5  \n",
       "85          6  \n",
       "86          3  "
      ]
     },
     "execution_count": 9,
     "metadata": {},
     "output_type": "execute_result"
    }
   ],
   "source": [
    "historical_df = pd.read_csv(\"C:\\\\Users\\\\geniu\\\\Documents\\\\NHL-Predictions\\\\NHL-Predictions\\\\Game_Outcomes.csv\", index_col=0)\n",
    "try:\n",
    "    historical_df = update_past_games(historical_df)\n",
    "except:\n",
    "    print(\"Web-scraping error with Hockey Reference\")\n",
    "historical_df.tail()"
   ]
  },
  {
   "cell_type": "code",
   "execution_count": 10,
   "id": "37f8f50f",
   "metadata": {
    "tags": []
   },
   "outputs": [],
   "source": [
    "historical_df.to_csv(\"C:\\\\Users\\\\geniu\\\\Documents\\\\NHL-Predictions\\\\NHL-Predictions\\\\Game_Outcomes.csv\")"
   ]
  },
  {
   "cell_type": "code",
   "execution_count": null,
   "id": "2a7e1bfa-8bfa-4601-91a6-7c5de5b5d4af",
   "metadata": {},
   "outputs": [],
   "source": []
  }
 ],
 "metadata": {
  "kernelspec": {
   "display_name": "Python 3 (ipykernel)",
   "language": "python",
   "name": "python3"
  },
  "language_info": {
   "codemirror_mode": {
    "name": "ipython",
    "version": 3
   },
   "file_extension": ".py",
   "mimetype": "text/x-python",
   "name": "python",
   "nbconvert_exporter": "python",
   "pygments_lexer": "ipython3",
   "version": "3.11.3"
  }
 },
 "nbformat": 4,
 "nbformat_minor": 5
}
