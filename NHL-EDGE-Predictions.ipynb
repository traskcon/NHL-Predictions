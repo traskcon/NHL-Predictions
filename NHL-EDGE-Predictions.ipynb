{
 "cells": [
  {
   "cell_type": "markdown",
   "id": "a0cb6883",
   "metadata": {},
   "source": [
    "# NHL Predictive Model\n",
    "\n",
    "With the release of puck tracking stats via NHL EDGE, opportunities arise to build predictive models based on these data. The approach taken within is to begin with a simple shot-location based comparative predictive model. Additional models of increasing complexity will be developed as necessary."
   ]
  },
  {
   "cell_type": "code",
   "execution_count": 29,
   "id": "8b713886",
   "metadata": {
    "tags": []
   },
   "outputs": [],
   "source": [
    "# Import required libraries\n",
    "import numpy as np\n",
    "import pandas as pd\n",
    "import requests \n",
    "from bs4 import BeautifulSoup\n",
    "import warnings \n",
    "warnings.filterwarnings(\"ignore\")\n",
    "import matplotlib.pyplot as plt\n",
    "import datetime as dt\n",
    "import plotly.express as px\n",
    "\n",
    "#!pip install selenium\n",
    "#!pip install webdriver_manager\n",
    "#!pip install jupyter_scheduler\n",
    "from selenium import webdriver \n",
    "from selenium.webdriver.common.by import By\n",
    "from selenium.webdriver.chrome.service import Service as ChromeService \n",
    "from webdriver_manager.chrome import ChromeDriverManager "
   ]
  },
  {
   "cell_type": "markdown",
   "id": "a0e86e37",
   "metadata": {},
   "source": [
    "## Baseline Model: MoneyPuck Expected Value\n",
    "\n",
    "MoneyPuck (https://moneypuck.com/index.html) publishes daily Win probabilities for every NHL game, calculated from their historical statistics. Their model consists of two submodels (Home and Away), which calculate each team's win probability independently, before being combined via the Meta model, which factors in home-ice advantage and rest time among other factors. A full description of MoneyPuck's model can be found here: https://moneypuck.com/about.htm <br>\n",
    "If we assume that MoneyPuck's model produces accurate win probabilities, a simple expected value formula can be used to identify profitable bets:\n",
    "\n",
    "$ EV = O*P(W) - 1 $\n",
    "\n",
    "Where \n",
    "* $EV$: Expected Value (%), Predicted Profit/Loss on a given bet\n",
    "* $O$: Odds (\\\\$ won per \\\\$ wagered), A team's moneyline decimal odds \n",
    "* $P(W)$: Win Probability, MoneyPuck's stated win probability\n",
    "\n",
    "Since decimal odds indicate how much one wins per dollar wagered, we subtract the cost to play from the expected payout ($O*P(W)$). <br>\n",
    "The predictions of our shot-location (NHL EDGE) model will be compared against MoneyPuck's results, both from a betting standpoint and in terms of overall accuracy. To give further insights into each model's betting performance, we will also analyze the performance of some simple betting strategies that do not make use of predictive models."
   ]
  },
  {
   "cell_type": "code",
   "execution_count": 5,
   "id": "8f84a183",
   "metadata": {},
   "outputs": [
    {
     "data": {
      "text/html": [
       "<div>\n",
       "<style scoped>\n",
       "    .dataframe tbody tr th:only-of-type {\n",
       "        vertical-align: middle;\n",
       "    }\n",
       "\n",
       "    .dataframe tbody tr th {\n",
       "        vertical-align: top;\n",
       "    }\n",
       "\n",
       "    .dataframe thead th {\n",
       "        text-align: right;\n",
       "    }\n",
       "</style>\n",
       "<table border=\"1\" class=\"dataframe\">\n",
       "  <thead>\n",
       "    <tr style=\"text-align: right;\">\n",
       "      <th></th>\n",
       "      <th>date</th>\n",
       "      <th>away_team</th>\n",
       "      <th>away_win_prob</th>\n",
       "      <th>home_team</th>\n",
       "      <th>home_win_prob</th>\n",
       "    </tr>\n",
       "  </thead>\n",
       "  <tbody>\n",
       "    <tr>\n",
       "      <th>0</th>\n",
       "      <td>2023-11-02</td>\n",
       "      <td>TAMPA BAY LIGHTNING</td>\n",
       "      <td>0.569</td>\n",
       "      <td>COLUMBUS BLUE JACKETS</td>\n",
       "      <td>0.431</td>\n",
       "    </tr>\n",
       "    <tr>\n",
       "      <th>1</th>\n",
       "      <td>2023-11-02</td>\n",
       "      <td>FLORIDA PANTHERS</td>\n",
       "      <td>0.533</td>\n",
       "      <td>DETROIT RED WINGS</td>\n",
       "      <td>0.467</td>\n",
       "    </tr>\n",
       "    <tr>\n",
       "      <th>2</th>\n",
       "      <td>2023-11-02</td>\n",
       "      <td>CAROLINA HURRICANES</td>\n",
       "      <td>0.517</td>\n",
       "      <td>NEW YORK RANGERS</td>\n",
       "      <td>0.483</td>\n",
       "    </tr>\n",
       "    <tr>\n",
       "      <th>3</th>\n",
       "      <td>2023-11-02</td>\n",
       "      <td>LOS ANGELES KINGS</td>\n",
       "      <td>0.506</td>\n",
       "      <td>OTTAWA SENATORS</td>\n",
       "      <td>0.494</td>\n",
       "    </tr>\n",
       "    <tr>\n",
       "      <th>4</th>\n",
       "      <td>2023-11-02</td>\n",
       "      <td>NEW YORK ISLANDERS</td>\n",
       "      <td>0.521</td>\n",
       "      <td>WASHINGTON CAPITALS</td>\n",
       "      <td>0.479</td>\n",
       "    </tr>\n",
       "  </tbody>\n",
       "</table>\n",
       "</div>"
      ],
      "text/plain": [
       "         date            away_team  away_win_prob              home_team  \\\n",
       "0  2023-11-02  TAMPA BAY LIGHTNING          0.569  COLUMBUS BLUE JACKETS   \n",
       "1  2023-11-02     FLORIDA PANTHERS          0.533      DETROIT RED WINGS   \n",
       "2  2023-11-02  CAROLINA HURRICANES          0.517       NEW YORK RANGERS   \n",
       "3  2023-11-02    LOS ANGELES KINGS          0.506        OTTAWA SENATORS   \n",
       "4  2023-11-02   NEW YORK ISLANDERS          0.521    WASHINGTON CAPITALS   \n",
       "\n",
       "   home_win_prob  \n",
       "0          0.431  \n",
       "1          0.467  \n",
       "2          0.483  \n",
       "3          0.494  \n",
       "4          0.479  "
      ]
     },
     "execution_count": 5,
     "metadata": {},
     "output_type": "execute_result"
    }
   ],
   "source": [
    "'''This is the initial code used to create the moneypuck_df:\n",
    "    It is remaining in this notebook for posterity, along with the code for the other major dataframes\n",
    "\n",
    "\n",
    "options = webdriver.ChromeOptions()  # instantiate options \n",
    "options.headless = True  # run browser in headless mode \n",
    "# instantiate driver \n",
    "driver = webdriver.Chrome(options=options) \n",
    " \n",
    "# load website \n",
    "url = 'https://moneypuck.com/index.html?date=2023-11-02' \n",
    "driver.get(url) # get the entire website content \n",
    "\n",
    "moneypuck_df = pd.DataFrame()\n",
    "away_win_probs, home_win_probs = [], []\n",
    "away_teams, home_teams = [], []\n",
    " \n",
    "# select win probability table\n",
    "win_table = driver.find_elements(By.ID, 'includedContent')[0] \n",
    "games = win_table.find_elements(By.TAG_NAME, \"tr\")\n",
    "for game in games:\n",
    "    win_probs = game.find_elements(By.TAG_NAME, \"h2\")\n",
    "    teams = game.find_elements(By.TAG_NAME, \"img\")\n",
    "    away_win_prob = win_probs[0].text\n",
    "    home_win_prob = win_probs[1].text\n",
    "    away_team = teams[0].get_attribute(\"alt\")\n",
    "    home_team = teams[1].get_attribute(\"alt\")\n",
    "    away_win_prob = float(away_win_prob.replace(\"%\",\"\"))/100 #Remove % symbol and convert to float (0-1)\n",
    "    home_win_prob = float(home_win_prob.replace(\"%\",\"\"))/100\n",
    "    away_teams.append(away_team)\n",
    "    home_teams.append(home_team)\n",
    "    away_win_probs.append(away_win_prob)\n",
    "    home_win_probs.append(home_win_prob)\n",
    "     \n",
    "moneypuck_df[\"date\"] = str(dt.date.today()) #Initial data was collected on 10/26/23\n",
    "moneypuck_df[\"away_team\"] = away_teams\n",
    "moneypuck_df[\"away_win_prob\"] = away_win_probs\n",
    "moneypuck_df[\"home_team\"] = home_teams\n",
    "moneypuck_df[\"home_win_prob\"] = home_win_probs\n",
    "moneypuck_df[\"date\"] = str(dt.date.today())\n",
    "moneypuck_df.head()'''"
   ]
  },
  {
   "cell_type": "markdown",
   "id": "0503705c",
   "metadata": {},
   "source": [
    "Since MoneyPuck is a dynamically loaded website, we cannot simply use a get request to extract the win probabilities from the website, as they are not present in the static html. Instead we use a headless selenium browser to load a local version of the website and then scrape the loaded content from there. The process of updating each of these dataframes has been segmented into a separate Jupyter Notebook (Update_NHL_Data) scheduled to run at 11 AM every day. This notebook will simply load the csv files generated by Update_NHL_Data and proceed from there."
   ]
  },
  {
   "cell_type": "code",
   "execution_count": 12,
   "id": "4b80ff2d",
   "metadata": {},
   "outputs": [
    {
     "data": {
      "text/html": [
       "<div>\n",
       "<style scoped>\n",
       "    .dataframe tbody tr th:only-of-type {\n",
       "        vertical-align: middle;\n",
       "    }\n",
       "\n",
       "    .dataframe tbody tr th {\n",
       "        vertical-align: top;\n",
       "    }\n",
       "\n",
       "    .dataframe thead th {\n",
       "        text-align: right;\n",
       "    }\n",
       "</style>\n",
       "<table border=\"1\" class=\"dataframe\">\n",
       "  <thead>\n",
       "    <tr style=\"text-align: right;\">\n",
       "      <th></th>\n",
       "      <th>date</th>\n",
       "      <th>away_team</th>\n",
       "      <th>away_odds</th>\n",
       "      <th>home_team</th>\n",
       "      <th>home_odds</th>\n",
       "      <th>over_under</th>\n",
       "      <th>away_puck_line</th>\n",
       "      <th>away_puck_odds</th>\n",
       "      <th>home_puck_line</th>\n",
       "      <th>home_puck_odds</th>\n",
       "    </tr>\n",
       "  </thead>\n",
       "  <tbody>\n",
       "    <tr>\n",
       "      <th>0</th>\n",
       "      <td>2023-11-02</td>\n",
       "      <td>LOS ANGELES KINGS</td>\n",
       "      <td>1.909091</td>\n",
       "      <td>OTTAWA SENATORS</td>\n",
       "      <td>1.909091</td>\n",
       "      <td>6.5</td>\n",
       "      <td>1.5</td>\n",
       "      <td>1.363636</td>\n",
       "      <td>-1.5</td>\n",
       "      <td>3.000000</td>\n",
       "    </tr>\n",
       "    <tr>\n",
       "      <th>1</th>\n",
       "      <td>2023-11-02</td>\n",
       "      <td>FLORIDA PANTHERS</td>\n",
       "      <td>1.833333</td>\n",
       "      <td>DETROIT RED WINGS</td>\n",
       "      <td>2.000000</td>\n",
       "      <td>6.5</td>\n",
       "      <td>-1.5</td>\n",
       "      <td>2.850000</td>\n",
       "      <td>1.5</td>\n",
       "      <td>1.400000</td>\n",
       "    </tr>\n",
       "    <tr>\n",
       "      <th>2</th>\n",
       "      <td>2023-11-02</td>\n",
       "      <td>CAROLINA HURRICANES</td>\n",
       "      <td>1.952381</td>\n",
       "      <td>NEW YORK RANGERS</td>\n",
       "      <td>1.869565</td>\n",
       "      <td>5.5</td>\n",
       "      <td>1.5</td>\n",
       "      <td>1.333333</td>\n",
       "      <td>-1.5</td>\n",
       "      <td>3.100000</td>\n",
       "    </tr>\n",
       "    <tr>\n",
       "      <th>3</th>\n",
       "      <td>2023-11-02</td>\n",
       "      <td>NEW YORK ISLANDERS</td>\n",
       "      <td>1.833333</td>\n",
       "      <td>WASHINGTON CAPITALS</td>\n",
       "      <td>2.000000</td>\n",
       "      <td>6.5</td>\n",
       "      <td>-1.5</td>\n",
       "      <td>2.900000</td>\n",
       "      <td>1.5</td>\n",
       "      <td>1.377358</td>\n",
       "    </tr>\n",
       "    <tr>\n",
       "      <th>4</th>\n",
       "      <td>2023-11-02</td>\n",
       "      <td>TAMPA BAY LIGHTNING</td>\n",
       "      <td>1.606061</td>\n",
       "      <td>COLUMBUS BLUE JACKETS</td>\n",
       "      <td>2.350000</td>\n",
       "      <td>6.5</td>\n",
       "      <td>-1.5</td>\n",
       "      <td>2.500000</td>\n",
       "      <td>1.5</td>\n",
       "      <td>1.555556</td>\n",
       "    </tr>\n",
       "  </tbody>\n",
       "</table>\n",
       "</div>"
      ],
      "text/plain": [
       "         date            away_team  away_odds              home_team  \\\n",
       "0  2023-11-02    LOS ANGELES KINGS   1.909091        OTTAWA SENATORS   \n",
       "1  2023-11-02     FLORIDA PANTHERS   1.833333      DETROIT RED WINGS   \n",
       "2  2023-11-02  CAROLINA HURRICANES   1.952381       NEW YORK RANGERS   \n",
       "3  2023-11-02   NEW YORK ISLANDERS   1.833333    WASHINGTON CAPITALS   \n",
       "4  2023-11-02  TAMPA BAY LIGHTNING   1.606061  COLUMBUS BLUE JACKETS   \n",
       "\n",
       "   home_odds  over_under  away_puck_line  away_puck_odds  home_puck_line  \\\n",
       "0   1.909091         6.5             1.5        1.363636            -1.5   \n",
       "1   2.000000         6.5            -1.5        2.850000             1.5   \n",
       "2   1.869565         5.5             1.5        1.333333            -1.5   \n",
       "3   2.000000         6.5            -1.5        2.900000             1.5   \n",
       "4   2.350000         6.5            -1.5        2.500000             1.5   \n",
       "\n",
       "   home_puck_odds  \n",
       "0        3.000000  \n",
       "1        1.400000  \n",
       "2        3.100000  \n",
       "3        1.377358  \n",
       "4        1.555556  "
      ]
     },
     "execution_count": 12,
     "metadata": {},
     "output_type": "execute_result"
    }
   ],
   "source": [
    "'''Initial code included for posterity, see above\n",
    "\n",
    "\n",
    "odds_df = pd.DataFrame(columns=[\"date\"])\n",
    "away_odds, home_odds = [], []\n",
    "away_teams, home_teams = [], []\n",
    "over_under = []\n",
    "away_puck_line, away_puck_odds = [], []\n",
    "home_puck_line, home_puck_odds = [], []\n",
    "\n",
    "options = webdriver.ChromeOptions()  # instantiate options \n",
    "options.headless = True  # run browser in headless mode \n",
    "# instantiate driver \n",
    "driver = webdriver.Chrome(options=options) \n",
    "\n",
    "driver.get('https://www.espn.com/nhl/lines') # get the entire website content\n",
    "\n",
    "games = driver.find_elements(By.TAG_NAME, 'tr')\n",
    "i = 0\n",
    "for game in games:\n",
    "    game_str = game.text\n",
    "    if i % 3 != 0: #Skip the header of every table\n",
    "        team_data = game_str.splitlines()\n",
    "        odds_line = team_data[-1] #Line containing each team's odds is the last of the table\n",
    "        odds_line = odds_line.split(\" \")\n",
    "        if len(odds_line) == 6: #The over is always listed on the away team's row\n",
    "            away_teams.append(team_data[0].upper())\n",
    "            away_odds.append(convert_odds(int(odds_line[2]))) #Have to account for the goalie name being split\n",
    "            over_under.append(float(odds_line[3]))\n",
    "            away_puck_line.append(float(odds_line[4]))\n",
    "            away_puck_odds.append(convert_odds(int(odds_line[5])))\n",
    "        else:\n",
    "            home_teams.append(team_data[0].upper())\n",
    "            home_odds.append(convert_odds(int(odds_line[2])))\n",
    "            home_puck_line.append(float(odds_line[3]))\n",
    "            home_puck_odds.append(convert_odds(int(odds_line[4])))\n",
    "    i += 1\n",
    "\n",
    "odds_df[\"away_team\"] = away_teams\n",
    "odds_df[\"away_odds\"] = away_odds\n",
    "odds_df[\"home_team\"] = home_teams\n",
    "odds_df[\"home_odds\"] = home_odds\n",
    "odds_df[\"over_under\"] = over_under\n",
    "odds_df[\"away_puck_line\"] = away_puck_line\n",
    "odds_df[\"away_puck_odds\"] = away_puck_odds\n",
    "odds_df[\"home_puck_line\"] = home_puck_line #Home puck line is inverse of away puck line, column might be redundant\n",
    "odds_df[\"home_puck_odds\"] = home_puck_odds\n",
    "odds_df[\"date\"] = str(dt.date.today())\n",
    "odds_df.head()'''"
   ]
  },
  {
   "cell_type": "code",
   "execution_count": 134,
   "id": "37c52472",
   "metadata": {},
   "outputs": [
    {
     "data": {
      "text/html": [
       "<div>\n",
       "<style scoped>\n",
       "    .dataframe tbody tr th:only-of-type {\n",
       "        vertical-align: middle;\n",
       "    }\n",
       "\n",
       "    .dataframe tbody tr th {\n",
       "        vertical-align: top;\n",
       "    }\n",
       "\n",
       "    .dataframe thead th {\n",
       "        text-align: right;\n",
       "    }\n",
       "</style>\n",
       "<table border=\"1\" class=\"dataframe\">\n",
       "  <thead>\n",
       "    <tr style=\"text-align: right;\">\n",
       "      <th></th>\n",
       "      <th>date</th>\n",
       "      <th>away_team</th>\n",
       "      <th>away_score</th>\n",
       "      <th>home_team</th>\n",
       "      <th>home_score</th>\n",
       "    </tr>\n",
       "  </thead>\n",
       "  <tbody>\n",
       "    <tr>\n",
       "      <th>0</th>\n",
       "      <td>2023-10-26</td>\n",
       "      <td>ANAHEIM DUCKS</td>\n",
       "      <td>4</td>\n",
       "      <td>BOSTON BRUINS</td>\n",
       "      <td>3</td>\n",
       "    </tr>\n",
       "    <tr>\n",
       "      <th>1</th>\n",
       "      <td>2023-10-26</td>\n",
       "      <td>SEATTLE KRAKEN</td>\n",
       "      <td>2</td>\n",
       "      <td>CAROLINA HURRICANES</td>\n",
       "      <td>3</td>\n",
       "    </tr>\n",
       "    <tr>\n",
       "      <th>2</th>\n",
       "      <td>2023-10-26</td>\n",
       "      <td>ST. LOUIS BLUES</td>\n",
       "      <td>3</td>\n",
       "      <td>CALGARY FLAMES</td>\n",
       "      <td>0</td>\n",
       "    </tr>\n",
       "    <tr>\n",
       "      <th>3</th>\n",
       "      <td>2023-10-26</td>\n",
       "      <td>TORONTO MAPLE LEAFS</td>\n",
       "      <td>4</td>\n",
       "      <td>DALLAS STARS</td>\n",
       "      <td>1</td>\n",
       "    </tr>\n",
       "    <tr>\n",
       "      <th>4</th>\n",
       "      <td>2023-10-26</td>\n",
       "      <td>WINNIPEG JETS</td>\n",
       "      <td>4</td>\n",
       "      <td>DETROIT RED WINGS</td>\n",
       "      <td>1</td>\n",
       "    </tr>\n",
       "  </tbody>\n",
       "</table>\n",
       "</div>"
      ],
      "text/plain": [
       "         date            away_team away_score            home_team home_score\n",
       "0  2023-10-26        ANAHEIM DUCKS          4        BOSTON BRUINS          3\n",
       "1  2023-10-26       SEATTLE KRAKEN          2  CAROLINA HURRICANES          3\n",
       "2  2023-10-26      ST. LOUIS BLUES          3       CALGARY FLAMES          0\n",
       "3  2023-10-26  TORONTO MAPLE LEAFS          4         DALLAS STARS          1\n",
       "4  2023-10-26        WINNIPEG JETS          4    DETROIT RED WINGS          1"
      ]
     },
     "execution_count": 134,
     "metadata": {},
     "output_type": "execute_result"
    }
   ],
   "source": [
    "'''Included for posterity, see above\n",
    "\n",
    "\n",
    "historical_df = pd.DataFrame(columns=[\"date\"])\n",
    "away_teams, home_teams = [], []\n",
    "away_scores, home_scores = [], []\n",
    "\n",
    "hockey_scores = requests.get(\"https://www.hockey-reference.com/boxscores/\")\n",
    "soup = BeautifulSoup(hockey_scores.text)\n",
    "games = soup.find_all(attrs={\"class\":\"teams\"})\n",
    "for game in games: \n",
    "    teams = game.find_all(\"a\")[::2] #Ignore the \"Final\", since it's not a team\n",
    "    scores = game.find_all(attrs={\"class\":\"right\"})[:3:2]\n",
    "    i = 0\n",
    "    for team, score in zip(teams,scores):\n",
    "        if i % 2 == 0:\n",
    "            away_teams.append(team.get_text().upper())\n",
    "            away_scores.append(score.get_text())\n",
    "        else:\n",
    "            home_teams.append(team.get_text().upper())\n",
    "            home_scores.append(score.get_text())\n",
    "        i += 1\n",
    "            \n",
    "historical_df[\"away_team\"] = away_teams\n",
    "historical_df[\"away_score\"] = away_scores\n",
    "historical_df[\"home_team\"] = home_teams\n",
    "historical_df[\"home_score\"] = home_scores\n",
    "historical_df[\"date\"] = str(dt.date.today() - dt.timedelta(days=1))\n",
    "historical_df.head()'''"
   ]
  },
  {
   "cell_type": "markdown",
   "id": "22e6fa4e",
   "metadata": {},
   "source": [
    "### Load Data"
   ]
  },
  {
   "cell_type": "code",
   "execution_count": 24,
   "id": "620684cf",
   "metadata": {
    "tags": []
   },
   "outputs": [],
   "source": [
    "moneypuck_df = pd.read_csv(\"Historical_Moneypuck_Predictions.csv\",index_col=0)\n",
    "odds_df = pd.read_csv(\"Historical_Odds.csv\", index_col=0)\n",
    "games_df = pd.read_csv(\"Game_Outcomes.csv\", index_col=0)"
   ]
  },
  {
   "cell_type": "markdown",
   "id": "7bd81359",
   "metadata": {},
   "source": [
    "## Data Manipulation"
   ]
  },
  {
   "cell_type": "code",
   "execution_count": 25,
   "id": "9651e1b9",
   "metadata": {
    "tags": []
   },
   "outputs": [
    {
     "data": {
      "text/html": [
       "<div>\n",
       "<style scoped>\n",
       "    .dataframe tbody tr th:only-of-type {\n",
       "        vertical-align: middle;\n",
       "    }\n",
       "\n",
       "    .dataframe tbody tr th {\n",
       "        vertical-align: top;\n",
       "    }\n",
       "\n",
       "    .dataframe thead th {\n",
       "        text-align: right;\n",
       "    }\n",
       "</style>\n",
       "<table border=\"1\" class=\"dataframe\">\n",
       "  <thead>\n",
       "    <tr style=\"text-align: right;\">\n",
       "      <th></th>\n",
       "      <th>date</th>\n",
       "      <th>away_team</th>\n",
       "      <th>away_win_prob</th>\n",
       "      <th>home_team</th>\n",
       "      <th>home_win_prob</th>\n",
       "      <th>away_odds</th>\n",
       "      <th>home_odds</th>\n",
       "      <th>away_ev</th>\n",
       "      <th>home_ev</th>\n",
       "    </tr>\n",
       "  </thead>\n",
       "  <tbody>\n",
       "    <tr>\n",
       "      <th>0</th>\n",
       "      <td>2023-11-02</td>\n",
       "      <td>TAMPA BAY LIGHTNING</td>\n",
       "      <td>0.569</td>\n",
       "      <td>COLUMBUS BLUE JACKETS</td>\n",
       "      <td>0.431</td>\n",
       "      <td>1.606061</td>\n",
       "      <td>2.350000</td>\n",
       "      <td>-0.086152</td>\n",
       "      <td>0.012850</td>\n",
       "    </tr>\n",
       "    <tr>\n",
       "      <th>1</th>\n",
       "      <td>2023-11-02</td>\n",
       "      <td>FLORIDA PANTHERS</td>\n",
       "      <td>0.533</td>\n",
       "      <td>DETROIT RED WINGS</td>\n",
       "      <td>0.467</td>\n",
       "      <td>1.833333</td>\n",
       "      <td>2.000000</td>\n",
       "      <td>-0.022833</td>\n",
       "      <td>-0.066000</td>\n",
       "    </tr>\n",
       "    <tr>\n",
       "      <th>2</th>\n",
       "      <td>2023-11-02</td>\n",
       "      <td>CAROLINA HURRICANES</td>\n",
       "      <td>0.517</td>\n",
       "      <td>NEW YORK RANGERS</td>\n",
       "      <td>0.483</td>\n",
       "      <td>1.952381</td>\n",
       "      <td>1.869565</td>\n",
       "      <td>0.009381</td>\n",
       "      <td>-0.097000</td>\n",
       "    </tr>\n",
       "    <tr>\n",
       "      <th>3</th>\n",
       "      <td>2023-11-02</td>\n",
       "      <td>LOS ANGELES KINGS</td>\n",
       "      <td>0.506</td>\n",
       "      <td>OTTAWA SENATORS</td>\n",
       "      <td>0.494</td>\n",
       "      <td>1.909091</td>\n",
       "      <td>1.909091</td>\n",
       "      <td>-0.034000</td>\n",
       "      <td>-0.056909</td>\n",
       "    </tr>\n",
       "    <tr>\n",
       "      <th>4</th>\n",
       "      <td>2023-11-02</td>\n",
       "      <td>NEW YORK ISLANDERS</td>\n",
       "      <td>0.521</td>\n",
       "      <td>WASHINGTON CAPITALS</td>\n",
       "      <td>0.479</td>\n",
       "      <td>1.833333</td>\n",
       "      <td>2.000000</td>\n",
       "      <td>-0.044833</td>\n",
       "      <td>-0.042000</td>\n",
       "    </tr>\n",
       "    <tr>\n",
       "      <th>...</th>\n",
       "      <td>...</td>\n",
       "      <td>...</td>\n",
       "      <td>...</td>\n",
       "      <td>...</td>\n",
       "      <td>...</td>\n",
       "      <td>...</td>\n",
       "      <td>...</td>\n",
       "      <td>...</td>\n",
       "      <td>...</td>\n",
       "    </tr>\n",
       "    <tr>\n",
       "      <th>57</th>\n",
       "      <td>2023-11-14</td>\n",
       "      <td>VEGAS GOLDEN KNIGHTS</td>\n",
       "      <td>0.570</td>\n",
       "      <td>WASHINGTON CAPITALS</td>\n",
       "      <td>0.430</td>\n",
       "      <td>1.645161</td>\n",
       "      <td>2.350000</td>\n",
       "      <td>-0.062258</td>\n",
       "      <td>0.010500</td>\n",
       "    </tr>\n",
       "    <tr>\n",
       "      <th>58</th>\n",
       "      <td>2023-11-14</td>\n",
       "      <td>ARIZONA COYOTES</td>\n",
       "      <td>0.349</td>\n",
       "      <td>DALLAS STARS</td>\n",
       "      <td>0.651</td>\n",
       "      <td>3.000000</td>\n",
       "      <td>1.416667</td>\n",
       "      <td>0.047000</td>\n",
       "      <td>-0.077750</td>\n",
       "    </tr>\n",
       "    <tr>\n",
       "      <th>59</th>\n",
       "      <td>2023-11-14</td>\n",
       "      <td>ANAHEIM DUCKS</td>\n",
       "      <td>0.352</td>\n",
       "      <td>NASHVILLE PREDATORS</td>\n",
       "      <td>0.648</td>\n",
       "      <td>2.550000</td>\n",
       "      <td>1.540541</td>\n",
       "      <td>-0.102400</td>\n",
       "      <td>-0.001730</td>\n",
       "    </tr>\n",
       "    <tr>\n",
       "      <th>60</th>\n",
       "      <td>2023-11-14</td>\n",
       "      <td>TAMPA BAY LIGHTNING</td>\n",
       "      <td>0.558</td>\n",
       "      <td>ST. LOUIS BLUES</td>\n",
       "      <td>0.442</td>\n",
       "      <td>1.769231</td>\n",
       "      <td>2.100000</td>\n",
       "      <td>-0.012769</td>\n",
       "      <td>-0.071800</td>\n",
       "    </tr>\n",
       "    <tr>\n",
       "      <th>61</th>\n",
       "      <td>2023-11-14</td>\n",
       "      <td>NEW JERSEY DEVILS</td>\n",
       "      <td>0.442</td>\n",
       "      <td>WINNIPEG JETS</td>\n",
       "      <td>0.558</td>\n",
       "      <td>2.250000</td>\n",
       "      <td>1.689655</td>\n",
       "      <td>-0.005500</td>\n",
       "      <td>-0.057172</td>\n",
       "    </tr>\n",
       "  </tbody>\n",
       "</table>\n",
       "<p>62 rows × 9 columns</p>\n",
       "</div>"
      ],
      "text/plain": [
       "          date             away_team  away_win_prob              home_team  \\\n",
       "0   2023-11-02   TAMPA BAY LIGHTNING          0.569  COLUMBUS BLUE JACKETS   \n",
       "1   2023-11-02      FLORIDA PANTHERS          0.533      DETROIT RED WINGS   \n",
       "2   2023-11-02   CAROLINA HURRICANES          0.517       NEW YORK RANGERS   \n",
       "3   2023-11-02     LOS ANGELES KINGS          0.506        OTTAWA SENATORS   \n",
       "4   2023-11-02    NEW YORK ISLANDERS          0.521    WASHINGTON CAPITALS   \n",
       "..         ...                   ...            ...                    ...   \n",
       "57  2023-11-14  VEGAS GOLDEN KNIGHTS          0.570    WASHINGTON CAPITALS   \n",
       "58  2023-11-14       ARIZONA COYOTES          0.349           DALLAS STARS   \n",
       "59  2023-11-14         ANAHEIM DUCKS          0.352    NASHVILLE PREDATORS   \n",
       "60  2023-11-14   TAMPA BAY LIGHTNING          0.558        ST. LOUIS BLUES   \n",
       "61  2023-11-14     NEW JERSEY DEVILS          0.442          WINNIPEG JETS   \n",
       "\n",
       "    home_win_prob  away_odds  home_odds   away_ev   home_ev  \n",
       "0           0.431   1.606061   2.350000 -0.086152  0.012850  \n",
       "1           0.467   1.833333   2.000000 -0.022833 -0.066000  \n",
       "2           0.483   1.952381   1.869565  0.009381 -0.097000  \n",
       "3           0.494   1.909091   1.909091 -0.034000 -0.056909  \n",
       "4           0.479   1.833333   2.000000 -0.044833 -0.042000  \n",
       "..            ...        ...        ...       ...       ...  \n",
       "57          0.430   1.645161   2.350000 -0.062258  0.010500  \n",
       "58          0.651   3.000000   1.416667  0.047000 -0.077750  \n",
       "59          0.648   2.550000   1.540541 -0.102400 -0.001730  \n",
       "60          0.442   1.769231   2.100000 -0.012769 -0.071800  \n",
       "61          0.558   2.250000   1.689655 -0.005500 -0.057172  \n",
       "\n",
       "[62 rows x 9 columns]"
      ]
     },
     "execution_count": 25,
     "metadata": {},
     "output_type": "execute_result"
    }
   ],
   "source": [
    "temp_df = moneypuck_df.merge(odds_df, on=[\"date\",\"away_team\",\"home_team\"])\n",
    "#Currently not using puck line, since moneypuck doesn't predict score, just win probability\n",
    "temp_df.drop(columns=[\"over_under\",\"away_puck_line\",\"away_puck_odds\",\"home_puck_line\",\"home_puck_odds\"], inplace=True)\n",
    "temp_df[\"away_ev\"] = temp_df[\"away_win_prob\"] * temp_df[\"away_odds\"] - 1\n",
    "temp_df[\"home_ev\"] = temp_df[\"home_win_prob\"] * temp_df[\"home_odds\"] - 1\n",
    "temp_df"
   ]
  },
  {
   "cell_type": "code",
   "execution_count": 26,
   "id": "37f8f50f",
   "metadata": {
    "tags": []
   },
   "outputs": [
    {
     "data": {
      "text/html": [
       "<div>\n",
       "<style scoped>\n",
       "    .dataframe tbody tr th:only-of-type {\n",
       "        vertical-align: middle;\n",
       "    }\n",
       "\n",
       "    .dataframe tbody tr th {\n",
       "        vertical-align: top;\n",
       "    }\n",
       "\n",
       "    .dataframe thead th {\n",
       "        text-align: right;\n",
       "    }\n",
       "</style>\n",
       "<table border=\"1\" class=\"dataframe\">\n",
       "  <thead>\n",
       "    <tr style=\"text-align: right;\">\n",
       "      <th></th>\n",
       "      <th>date</th>\n",
       "      <th>away_team</th>\n",
       "      <th>away_win_prob</th>\n",
       "      <th>home_team</th>\n",
       "      <th>home_win_prob</th>\n",
       "      <th>away_odds</th>\n",
       "      <th>home_odds</th>\n",
       "      <th>away_ev</th>\n",
       "      <th>home_ev</th>\n",
       "      <th>away_score</th>\n",
       "      <th>home_score</th>\n",
       "      <th>ev_profit</th>\n",
       "      <th>favorite</th>\n",
       "      <th>underdog</th>\n",
       "    </tr>\n",
       "  </thead>\n",
       "  <tbody>\n",
       "    <tr>\n",
       "      <th>0</th>\n",
       "      <td>2023-11-02</td>\n",
       "      <td>TAMPA BAY LIGHTNING</td>\n",
       "      <td>0.569</td>\n",
       "      <td>COLUMBUS BLUE JACKETS</td>\n",
       "      <td>0.431</td>\n",
       "      <td>1.606061</td>\n",
       "      <td>2.350000</td>\n",
       "      <td>-0.086152</td>\n",
       "      <td>0.012850</td>\n",
       "      <td>2</td>\n",
       "      <td>4</td>\n",
       "      <td>1.350000</td>\n",
       "      <td>-1.000000</td>\n",
       "      <td>1.350000</td>\n",
       "    </tr>\n",
       "    <tr>\n",
       "      <th>1</th>\n",
       "      <td>2023-11-02</td>\n",
       "      <td>FLORIDA PANTHERS</td>\n",
       "      <td>0.533</td>\n",
       "      <td>DETROIT RED WINGS</td>\n",
       "      <td>0.467</td>\n",
       "      <td>1.833333</td>\n",
       "      <td>2.000000</td>\n",
       "      <td>-0.022833</td>\n",
       "      <td>-0.066000</td>\n",
       "      <td>2</td>\n",
       "      <td>0</td>\n",
       "      <td>0.000000</td>\n",
       "      <td>0.833333</td>\n",
       "      <td>-1.000000</td>\n",
       "    </tr>\n",
       "    <tr>\n",
       "      <th>2</th>\n",
       "      <td>2023-11-02</td>\n",
       "      <td>CAROLINA HURRICANES</td>\n",
       "      <td>0.517</td>\n",
       "      <td>NEW YORK RANGERS</td>\n",
       "      <td>0.483</td>\n",
       "      <td>1.952381</td>\n",
       "      <td>1.869565</td>\n",
       "      <td>0.009381</td>\n",
       "      <td>-0.097000</td>\n",
       "      <td>1</td>\n",
       "      <td>2</td>\n",
       "      <td>-1.000000</td>\n",
       "      <td>0.869565</td>\n",
       "      <td>-1.000000</td>\n",
       "    </tr>\n",
       "    <tr>\n",
       "      <th>3</th>\n",
       "      <td>2023-11-02</td>\n",
       "      <td>LOS ANGELES KINGS</td>\n",
       "      <td>0.506</td>\n",
       "      <td>OTTAWA SENATORS</td>\n",
       "      <td>0.494</td>\n",
       "      <td>1.909091</td>\n",
       "      <td>1.909091</td>\n",
       "      <td>-0.034000</td>\n",
       "      <td>-0.056909</td>\n",
       "      <td>3</td>\n",
       "      <td>2</td>\n",
       "      <td>0.000000</td>\n",
       "      <td>0.000000</td>\n",
       "      <td>0.000000</td>\n",
       "    </tr>\n",
       "    <tr>\n",
       "      <th>4</th>\n",
       "      <td>2023-11-02</td>\n",
       "      <td>NEW YORK ISLANDERS</td>\n",
       "      <td>0.521</td>\n",
       "      <td>WASHINGTON CAPITALS</td>\n",
       "      <td>0.479</td>\n",
       "      <td>1.833333</td>\n",
       "      <td>2.000000</td>\n",
       "      <td>-0.044833</td>\n",
       "      <td>-0.042000</td>\n",
       "      <td>3</td>\n",
       "      <td>0</td>\n",
       "      <td>0.000000</td>\n",
       "      <td>0.833333</td>\n",
       "      <td>-1.000000</td>\n",
       "    </tr>\n",
       "    <tr>\n",
       "      <th>5</th>\n",
       "      <td>2023-11-02</td>\n",
       "      <td>TORONTO MAPLE LEAFS</td>\n",
       "      <td>0.458</td>\n",
       "      <td>BOSTON BRUINS</td>\n",
       "      <td>0.542</td>\n",
       "      <td>1.869565</td>\n",
       "      <td>1.952381</td>\n",
       "      <td>-0.143739</td>\n",
       "      <td>0.058190</td>\n",
       "      <td>2</td>\n",
       "      <td>3</td>\n",
       "      <td>0.952381</td>\n",
       "      <td>-1.000000</td>\n",
       "      <td>0.952381</td>\n",
       "    </tr>\n",
       "    <tr>\n",
       "      <th>6</th>\n",
       "      <td>2023-11-02</td>\n",
       "      <td>NEW JERSEY DEVILS</td>\n",
       "      <td>0.559</td>\n",
       "      <td>MINNESOTA WILD</td>\n",
       "      <td>0.441</td>\n",
       "      <td>1.833333</td>\n",
       "      <td>2.000000</td>\n",
       "      <td>0.024833</td>\n",
       "      <td>-0.118000</td>\n",
       "      <td>5</td>\n",
       "      <td>3</td>\n",
       "      <td>0.833333</td>\n",
       "      <td>0.833333</td>\n",
       "      <td>-1.000000</td>\n",
       "    </tr>\n",
       "    <tr>\n",
       "      <th>7</th>\n",
       "      <td>2023-11-02</td>\n",
       "      <td>DALLAS STARS</td>\n",
       "      <td>0.416</td>\n",
       "      <td>EDMONTON OILERS</td>\n",
       "      <td>0.584</td>\n",
       "      <td>2.300000</td>\n",
       "      <td>1.666667</td>\n",
       "      <td>-0.043200</td>\n",
       "      <td>-0.026667</td>\n",
       "      <td>4</td>\n",
       "      <td>3</td>\n",
       "      <td>0.000000</td>\n",
       "      <td>-1.000000</td>\n",
       "      <td>1.300000</td>\n",
       "    </tr>\n",
       "    <tr>\n",
       "      <th>8</th>\n",
       "      <td>2023-11-02</td>\n",
       "      <td>MONTREAL CANADIENS</td>\n",
       "      <td>0.468</td>\n",
       "      <td>ARIZONA COYOTES</td>\n",
       "      <td>0.532</td>\n",
       "      <td>2.100000</td>\n",
       "      <td>1.769231</td>\n",
       "      <td>-0.017200</td>\n",
       "      <td>-0.058769</td>\n",
       "      <td>2</td>\n",
       "      <td>3</td>\n",
       "      <td>0.000000</td>\n",
       "      <td>0.769231</td>\n",
       "      <td>-1.000000</td>\n",
       "    </tr>\n",
       "    <tr>\n",
       "      <th>9</th>\n",
       "      <td>2023-11-02</td>\n",
       "      <td>NASHVILLE PREDATORS</td>\n",
       "      <td>0.465</td>\n",
       "      <td>SEATTLE KRAKEN</td>\n",
       "      <td>0.535</td>\n",
       "      <td>2.000000</td>\n",
       "      <td>1.833333</td>\n",
       "      <td>-0.070000</td>\n",
       "      <td>-0.019167</td>\n",
       "      <td>2</td>\n",
       "      <td>4</td>\n",
       "      <td>0.000000</td>\n",
       "      <td>0.833333</td>\n",
       "      <td>-1.000000</td>\n",
       "    </tr>\n",
       "    <tr>\n",
       "      <th>10</th>\n",
       "      <td>2023-11-02</td>\n",
       "      <td>WINNIPEG JETS</td>\n",
       "      <td>0.447</td>\n",
       "      <td>VEGAS GOLDEN KNIGHTS</td>\n",
       "      <td>0.553</td>\n",
       "      <td>2.150000</td>\n",
       "      <td>1.740741</td>\n",
       "      <td>-0.038950</td>\n",
       "      <td>-0.037370</td>\n",
       "      <td>2</td>\n",
       "      <td>5</td>\n",
       "      <td>0.000000</td>\n",
       "      <td>0.740741</td>\n",
       "      <td>-1.000000</td>\n",
       "    </tr>\n",
       "    <tr>\n",
       "      <th>11</th>\n",
       "      <td>2023-11-02</td>\n",
       "      <td>VANCOUVER CANUCKS</td>\n",
       "      <td>0.687</td>\n",
       "      <td>SAN JOSE SHARKS</td>\n",
       "      <td>0.313</td>\n",
       "      <td>1.434783</td>\n",
       "      <td>2.950000</td>\n",
       "      <td>-0.014304</td>\n",
       "      <td>-0.076650</td>\n",
       "      <td>10</td>\n",
       "      <td>1</td>\n",
       "      <td>0.000000</td>\n",
       "      <td>0.434783</td>\n",
       "      <td>-1.000000</td>\n",
       "    </tr>\n",
       "    <tr>\n",
       "      <th>12</th>\n",
       "      <td>2023-11-04</td>\n",
       "      <td>NASHVILLE PREDATORS</td>\n",
       "      <td>0.343</td>\n",
       "      <td>EDMONTON OILERS</td>\n",
       "      <td>0.657</td>\n",
       "      <td>2.550000</td>\n",
       "      <td>1.540541</td>\n",
       "      <td>-0.125350</td>\n",
       "      <td>0.012135</td>\n",
       "      <td>5</td>\n",
       "      <td>2</td>\n",
       "      <td>-1.000000</td>\n",
       "      <td>-1.000000</td>\n",
       "      <td>1.550000</td>\n",
       "    </tr>\n",
       "    <tr>\n",
       "      <th>13</th>\n",
       "      <td>2023-11-04</td>\n",
       "      <td>WINNIPEG JETS</td>\n",
       "      <td>0.522</td>\n",
       "      <td>ARIZONA COYOTES</td>\n",
       "      <td>0.478</td>\n",
       "      <td>1.769231</td>\n",
       "      <td>2.100000</td>\n",
       "      <td>-0.076462</td>\n",
       "      <td>0.003800</td>\n",
       "      <td>5</td>\n",
       "      <td>3</td>\n",
       "      <td>-1.000000</td>\n",
       "      <td>0.769231</td>\n",
       "      <td>-1.000000</td>\n",
       "    </tr>\n",
       "    <tr>\n",
       "      <th>14</th>\n",
       "      <td>2023-11-04</td>\n",
       "      <td>MONTREAL CANADIENS</td>\n",
       "      <td>0.515</td>\n",
       "      <td>ST. LOUIS BLUES</td>\n",
       "      <td>0.485</td>\n",
       "      <td>2.000000</td>\n",
       "      <td>1.833333</td>\n",
       "      <td>0.030000</td>\n",
       "      <td>-0.110833</td>\n",
       "      <td>3</td>\n",
       "      <td>6</td>\n",
       "      <td>-1.000000</td>\n",
       "      <td>0.833333</td>\n",
       "      <td>-1.000000</td>\n",
       "    </tr>\n",
       "    <tr>\n",
       "      <th>15</th>\n",
       "      <td>2023-11-04</td>\n",
       "      <td>BOSTON BRUINS</td>\n",
       "      <td>0.548</td>\n",
       "      <td>DETROIT RED WINGS</td>\n",
       "      <td>0.452</td>\n",
       "      <td>1.714286</td>\n",
       "      <td>2.200000</td>\n",
       "      <td>-0.060571</td>\n",
       "      <td>-0.005600</td>\n",
       "      <td>4</td>\n",
       "      <td>5</td>\n",
       "      <td>0.000000</td>\n",
       "      <td>-1.000000</td>\n",
       "      <td>1.200000</td>\n",
       "    </tr>\n",
       "    <tr>\n",
       "      <th>16</th>\n",
       "      <td>2023-11-04</td>\n",
       "      <td>TAMPA BAY LIGHTNING</td>\n",
       "      <td>0.504</td>\n",
       "      <td>OTTAWA SENATORS</td>\n",
       "      <td>0.496</td>\n",
       "      <td>2.000000</td>\n",
       "      <td>1.833333</td>\n",
       "      <td>0.008000</td>\n",
       "      <td>-0.090667</td>\n",
       "      <td>6</td>\n",
       "      <td>4</td>\n",
       "      <td>1.000000</td>\n",
       "      <td>-1.000000</td>\n",
       "      <td>1.000000</td>\n",
       "    </tr>\n",
       "    <tr>\n",
       "      <th>17</th>\n",
       "      <td>2023-11-04</td>\n",
       "      <td>BUFFALO SABRES</td>\n",
       "      <td>0.399</td>\n",
       "      <td>TORONTO MAPLE LEAFS</td>\n",
       "      <td>0.601</td>\n",
       "      <td>2.900000</td>\n",
       "      <td>1.444444</td>\n",
       "      <td>0.157100</td>\n",
       "      <td>-0.131889</td>\n",
       "      <td>6</td>\n",
       "      <td>4</td>\n",
       "      <td>1.900000</td>\n",
       "      <td>-1.000000</td>\n",
       "      <td>1.900000</td>\n",
       "    </tr>\n",
       "    <tr>\n",
       "      <th>18</th>\n",
       "      <td>2023-11-04</td>\n",
       "      <td>COLUMBUS BLUE JACKETS</td>\n",
       "      <td>0.410</td>\n",
       "      <td>WASHINGTON CAPITALS</td>\n",
       "      <td>0.590</td>\n",
       "      <td>2.300000</td>\n",
       "      <td>1.666667</td>\n",
       "      <td>-0.057000</td>\n",
       "      <td>-0.016667</td>\n",
       "      <td>1</td>\n",
       "      <td>2</td>\n",
       "      <td>0.000000</td>\n",
       "      <td>0.666667</td>\n",
       "      <td>-1.000000</td>\n",
       "    </tr>\n",
       "    <tr>\n",
       "      <th>19</th>\n",
       "      <td>2023-11-04</td>\n",
       "      <td>LOS ANGELES KINGS</td>\n",
       "      <td>0.615</td>\n",
       "      <td>PHILADELPHIA FLYERS</td>\n",
       "      <td>0.385</td>\n",
       "      <td>1.540541</td>\n",
       "      <td>2.550000</td>\n",
       "      <td>-0.052568</td>\n",
       "      <td>-0.018250</td>\n",
       "      <td>5</td>\n",
       "      <td>0</td>\n",
       "      <td>0.000000</td>\n",
       "      <td>0.540541</td>\n",
       "      <td>-1.000000</td>\n",
       "    </tr>\n",
       "    <tr>\n",
       "      <th>20</th>\n",
       "      <td>2023-11-04</td>\n",
       "      <td>CAROLINA HURRICANES</td>\n",
       "      <td>0.547</td>\n",
       "      <td>NEW YORK ISLANDERS</td>\n",
       "      <td>0.453</td>\n",
       "      <td>1.769231</td>\n",
       "      <td>2.100000</td>\n",
       "      <td>-0.032231</td>\n",
       "      <td>-0.048700</td>\n",
       "      <td>4</td>\n",
       "      <td>3</td>\n",
       "      <td>0.000000</td>\n",
       "      <td>0.769231</td>\n",
       "      <td>-1.000000</td>\n",
       "    </tr>\n",
       "    <tr>\n",
       "      <th>21</th>\n",
       "      <td>2023-11-04</td>\n",
       "      <td>FLORIDA PANTHERS</td>\n",
       "      <td>0.661</td>\n",
       "      <td>CHICAGO BLACKHAWKS</td>\n",
       "      <td>0.339</td>\n",
       "      <td>1.500000</td>\n",
       "      <td>2.700000</td>\n",
       "      <td>-0.008500</td>\n",
       "      <td>-0.084700</td>\n",
       "      <td>2</td>\n",
       "      <td>5</td>\n",
       "      <td>0.000000</td>\n",
       "      <td>-1.000000</td>\n",
       "      <td>1.700000</td>\n",
       "    </tr>\n",
       "    <tr>\n",
       "      <th>22</th>\n",
       "      <td>2023-11-04</td>\n",
       "      <td>NEW YORK RANGERS</td>\n",
       "      <td>0.488</td>\n",
       "      <td>MINNESOTA WILD</td>\n",
       "      <td>0.512</td>\n",
       "      <td>2.000000</td>\n",
       "      <td>1.833333</td>\n",
       "      <td>-0.024000</td>\n",
       "      <td>-0.061333</td>\n",
       "      <td>4</td>\n",
       "      <td>5</td>\n",
       "      <td>0.000000</td>\n",
       "      <td>0.833333</td>\n",
       "      <td>-1.000000</td>\n",
       "    </tr>\n",
       "    <tr>\n",
       "      <th>23</th>\n",
       "      <td>2023-11-04</td>\n",
       "      <td>PITTSBURGH PENGUINS</td>\n",
       "      <td>0.688</td>\n",
       "      <td>SAN JOSE SHARKS</td>\n",
       "      <td>0.312</td>\n",
       "      <td>1.400000</td>\n",
       "      <td>3.100000</td>\n",
       "      <td>-0.036800</td>\n",
       "      <td>-0.032800</td>\n",
       "      <td>10</td>\n",
       "      <td>2</td>\n",
       "      <td>0.000000</td>\n",
       "      <td>0.400000</td>\n",
       "      <td>-1.000000</td>\n",
       "    </tr>\n",
       "    <tr>\n",
       "      <th>24</th>\n",
       "      <td>2023-11-04</td>\n",
       "      <td>DALLAS STARS</td>\n",
       "      <td>0.488</td>\n",
       "      <td>VANCOUVER CANUCKS</td>\n",
       "      <td>0.512</td>\n",
       "      <td>1.800000</td>\n",
       "      <td>2.050000</td>\n",
       "      <td>-0.121600</td>\n",
       "      <td>0.049600</td>\n",
       "      <td>0</td>\n",
       "      <td>2</td>\n",
       "      <td>1.050000</td>\n",
       "      <td>-1.000000</td>\n",
       "      <td>1.050000</td>\n",
       "    </tr>\n",
       "    <tr>\n",
       "      <th>25</th>\n",
       "      <td>2023-11-04</td>\n",
       "      <td>COLORADO AVALANCHE</td>\n",
       "      <td>0.481</td>\n",
       "      <td>VEGAS GOLDEN KNIGHTS</td>\n",
       "      <td>0.519</td>\n",
       "      <td>1.833333</td>\n",
       "      <td>2.000000</td>\n",
       "      <td>-0.118167</td>\n",
       "      <td>0.038000</td>\n",
       "      <td>0</td>\n",
       "      <td>7</td>\n",
       "      <td>1.000000</td>\n",
       "      <td>-1.000000</td>\n",
       "      <td>1.000000</td>\n",
       "    </tr>\n",
       "    <tr>\n",
       "      <th>26</th>\n",
       "      <td>2023-11-05</td>\n",
       "      <td>NEW JERSEY DEVILS</td>\n",
       "      <td>0.688</td>\n",
       "      <td>CHICAGO BLACKHAWKS</td>\n",
       "      <td>0.312</td>\n",
       "      <td>1.465116</td>\n",
       "      <td>2.800000</td>\n",
       "      <td>0.008000</td>\n",
       "      <td>-0.126400</td>\n",
       "      <td>4</td>\n",
       "      <td>2</td>\n",
       "      <td>0.465116</td>\n",
       "      <td>0.465116</td>\n",
       "      <td>-1.000000</td>\n",
       "    </tr>\n",
       "    <tr>\n",
       "      <th>27</th>\n",
       "      <td>2023-11-07</td>\n",
       "      <td>BUFFALO SABRES</td>\n",
       "      <td>0.370</td>\n",
       "      <td>CAROLINA HURRICANES</td>\n",
       "      <td>0.630</td>\n",
       "      <td>2.800000</td>\n",
       "      <td>1.465116</td>\n",
       "      <td>0.036000</td>\n",
       "      <td>-0.076977</td>\n",
       "      <td>2</td>\n",
       "      <td>3</td>\n",
       "      <td>-1.000000</td>\n",
       "      <td>0.465116</td>\n",
       "      <td>-1.000000</td>\n",
       "    </tr>\n",
       "    <tr>\n",
       "      <th>28</th>\n",
       "      <td>2023-11-07</td>\n",
       "      <td>TAMPA BAY LIGHTNING</td>\n",
       "      <td>0.586</td>\n",
       "      <td>MONTREAL CANADIENS</td>\n",
       "      <td>0.414</td>\n",
       "      <td>1.769231</td>\n",
       "      <td>2.100000</td>\n",
       "      <td>0.036769</td>\n",
       "      <td>-0.130600</td>\n",
       "      <td>5</td>\n",
       "      <td>3</td>\n",
       "      <td>0.769231</td>\n",
       "      <td>0.769231</td>\n",
       "      <td>-1.000000</td>\n",
       "    </tr>\n",
       "    <tr>\n",
       "      <th>29</th>\n",
       "      <td>2023-11-07</td>\n",
       "      <td>MINNESOTA WILD</td>\n",
       "      <td>0.503</td>\n",
       "      <td>NEW YORK ISLANDERS</td>\n",
       "      <td>0.497</td>\n",
       "      <td>1.909091</td>\n",
       "      <td>1.909091</td>\n",
       "      <td>-0.039727</td>\n",
       "      <td>-0.051182</td>\n",
       "      <td>4</td>\n",
       "      <td>2</td>\n",
       "      <td>0.000000</td>\n",
       "      <td>0.000000</td>\n",
       "      <td>0.000000</td>\n",
       "    </tr>\n",
       "    <tr>\n",
       "      <th>30</th>\n",
       "      <td>2023-11-07</td>\n",
       "      <td>DETROIT RED WINGS</td>\n",
       "      <td>0.386</td>\n",
       "      <td>NEW YORK RANGERS</td>\n",
       "      <td>0.614</td>\n",
       "      <td>2.250000</td>\n",
       "      <td>1.689655</td>\n",
       "      <td>-0.131500</td>\n",
       "      <td>0.037448</td>\n",
       "      <td>3</td>\n",
       "      <td>5</td>\n",
       "      <td>0.689655</td>\n",
       "      <td>0.689655</td>\n",
       "      <td>-1.000000</td>\n",
       "    </tr>\n",
       "    <tr>\n",
       "      <th>31</th>\n",
       "      <td>2023-11-07</td>\n",
       "      <td>WINNIPEG JETS</td>\n",
       "      <td>0.576</td>\n",
       "      <td>ST. LOUIS BLUES</td>\n",
       "      <td>0.424</td>\n",
       "      <td>1.689655</td>\n",
       "      <td>2.250000</td>\n",
       "      <td>-0.026759</td>\n",
       "      <td>-0.046000</td>\n",
       "      <td>5</td>\n",
       "      <td>2</td>\n",
       "      <td>0.000000</td>\n",
       "      <td>0.689655</td>\n",
       "      <td>-1.000000</td>\n",
       "    </tr>\n",
       "    <tr>\n",
       "      <th>32</th>\n",
       "      <td>2023-11-07</td>\n",
       "      <td>SEATTLE KRAKEN</td>\n",
       "      <td>0.490</td>\n",
       "      <td>ARIZONA COYOTES</td>\n",
       "      <td>0.510</td>\n",
       "      <td>1.909091</td>\n",
       "      <td>1.909091</td>\n",
       "      <td>-0.064545</td>\n",
       "      <td>-0.026364</td>\n",
       "      <td>3</td>\n",
       "      <td>4</td>\n",
       "      <td>0.000000</td>\n",
       "      <td>0.000000</td>\n",
       "      <td>0.000000</td>\n",
       "    </tr>\n",
       "    <tr>\n",
       "      <th>33</th>\n",
       "      <td>2023-11-07</td>\n",
       "      <td>NASHVILLE PREDATORS</td>\n",
       "      <td>0.458</td>\n",
       "      <td>CALGARY FLAMES</td>\n",
       "      <td>0.542</td>\n",
       "      <td>2.050000</td>\n",
       "      <td>1.800000</td>\n",
       "      <td>-0.061100</td>\n",
       "      <td>-0.024400</td>\n",
       "      <td>2</td>\n",
       "      <td>4</td>\n",
       "      <td>0.000000</td>\n",
       "      <td>0.800000</td>\n",
       "      <td>-1.000000</td>\n",
       "    </tr>\n",
       "    <tr>\n",
       "      <th>34</th>\n",
       "      <td>2023-11-07</td>\n",
       "      <td>PITTSBURGH PENGUINS</td>\n",
       "      <td>0.602</td>\n",
       "      <td>ANAHEIM DUCKS</td>\n",
       "      <td>0.398</td>\n",
       "      <td>1.526316</td>\n",
       "      <td>2.600000</td>\n",
       "      <td>-0.081158</td>\n",
       "      <td>0.034800</td>\n",
       "      <td>2</td>\n",
       "      <td>0</td>\n",
       "      <td>-1.000000</td>\n",
       "      <td>0.526316</td>\n",
       "      <td>-1.000000</td>\n",
       "    </tr>\n",
       "    <tr>\n",
       "      <th>35</th>\n",
       "      <td>2023-11-07</td>\n",
       "      <td>NEW JERSEY DEVILS</td>\n",
       "      <td>0.395</td>\n",
       "      <td>COLORADO AVALANCHE</td>\n",
       "      <td>0.605</td>\n",
       "      <td>2.550000</td>\n",
       "      <td>1.555556</td>\n",
       "      <td>0.007250</td>\n",
       "      <td>-0.058889</td>\n",
       "      <td>3</td>\n",
       "      <td>6</td>\n",
       "      <td>-1.000000</td>\n",
       "      <td>0.555556</td>\n",
       "      <td>-1.000000</td>\n",
       "    </tr>\n",
       "    <tr>\n",
       "      <th>36</th>\n",
       "      <td>2023-11-08</td>\n",
       "      <td>OTTAWA SENATORS</td>\n",
       "      <td>0.374</td>\n",
       "      <td>TORONTO MAPLE LEAFS</td>\n",
       "      <td>0.626</td>\n",
       "      <td>2.450000</td>\n",
       "      <td>1.588235</td>\n",
       "      <td>-0.083700</td>\n",
       "      <td>-0.005765</td>\n",
       "      <td>6</td>\n",
       "      <td>3</td>\n",
       "      <td>0.000000</td>\n",
       "      <td>-1.000000</td>\n",
       "      <td>1.450000</td>\n",
       "    </tr>\n",
       "    <tr>\n",
       "      <th>37</th>\n",
       "      <td>2023-11-08</td>\n",
       "      <td>FLORIDA PANTHERS</td>\n",
       "      <td>0.560</td>\n",
       "      <td>WASHINGTON CAPITALS</td>\n",
       "      <td>0.440</td>\n",
       "      <td>1.714286</td>\n",
       "      <td>2.200000</td>\n",
       "      <td>-0.040000</td>\n",
       "      <td>-0.032000</td>\n",
       "      <td>4</td>\n",
       "      <td>3</td>\n",
       "      <td>0.000000</td>\n",
       "      <td>0.714286</td>\n",
       "      <td>-1.000000</td>\n",
       "    </tr>\n",
       "    <tr>\n",
       "      <th>38</th>\n",
       "      <td>2023-11-09</td>\n",
       "      <td>NEW YORK ISLANDERS</td>\n",
       "      <td>0.396</td>\n",
       "      <td>BOSTON BRUINS</td>\n",
       "      <td>0.604</td>\n",
       "      <td>2.100000</td>\n",
       "      <td>1.769231</td>\n",
       "      <td>-0.168400</td>\n",
       "      <td>0.068615</td>\n",
       "      <td>2</td>\n",
       "      <td>5</td>\n",
       "      <td>0.769231</td>\n",
       "      <td>0.769231</td>\n",
       "      <td>-1.000000</td>\n",
       "    </tr>\n",
       "    <tr>\n",
       "      <th>39</th>\n",
       "      <td>2023-11-09</td>\n",
       "      <td>MONTREAL CANADIENS</td>\n",
       "      <td>0.368</td>\n",
       "      <td>DETROIT RED WINGS</td>\n",
       "      <td>0.632</td>\n",
       "      <td>2.550000</td>\n",
       "      <td>1.540541</td>\n",
       "      <td>-0.061600</td>\n",
       "      <td>-0.026378</td>\n",
       "      <td>3</td>\n",
       "      <td>2</td>\n",
       "      <td>0.000000</td>\n",
       "      <td>-1.000000</td>\n",
       "      <td>1.550000</td>\n",
       "    </tr>\n",
       "    <tr>\n",
       "      <th>40</th>\n",
       "      <td>2023-11-09</td>\n",
       "      <td>MINNESOTA WILD</td>\n",
       "      <td>0.475</td>\n",
       "      <td>NEW YORK RANGERS</td>\n",
       "      <td>0.525</td>\n",
       "      <td>2.000000</td>\n",
       "      <td>1.833333</td>\n",
       "      <td>-0.050000</td>\n",
       "      <td>-0.037500</td>\n",
       "      <td>1</td>\n",
       "      <td>4</td>\n",
       "      <td>0.000000</td>\n",
       "      <td>0.833333</td>\n",
       "      <td>-1.000000</td>\n",
       "    </tr>\n",
       "    <tr>\n",
       "      <th>41</th>\n",
       "      <td>2023-11-09</td>\n",
       "      <td>VANCOUVER CANUCKS</td>\n",
       "      <td>0.556</td>\n",
       "      <td>OTTAWA SENATORS</td>\n",
       "      <td>0.444</td>\n",
       "      <td>1.800000</td>\n",
       "      <td>2.050000</td>\n",
       "      <td>0.000800</td>\n",
       "      <td>-0.089800</td>\n",
       "      <td>5</td>\n",
       "      <td>2</td>\n",
       "      <td>0.800000</td>\n",
       "      <td>0.800000</td>\n",
       "      <td>-1.000000</td>\n",
       "    </tr>\n",
       "    <tr>\n",
       "      <th>42</th>\n",
       "      <td>2023-11-09</td>\n",
       "      <td>CHICAGO BLACKHAWKS</td>\n",
       "      <td>0.253</td>\n",
       "      <td>TAMPA BAY LIGHTNING</td>\n",
       "      <td>0.747</td>\n",
       "      <td>3.000000</td>\n",
       "      <td>1.416667</td>\n",
       "      <td>-0.241000</td>\n",
       "      <td>0.058250</td>\n",
       "      <td>5</td>\n",
       "      <td>3</td>\n",
       "      <td>-1.000000</td>\n",
       "      <td>-1.000000</td>\n",
       "      <td>2.000000</td>\n",
       "    </tr>\n",
       "    <tr>\n",
       "      <th>43</th>\n",
       "      <td>2023-11-09</td>\n",
       "      <td>DALLAS STARS</td>\n",
       "      <td>0.626</td>\n",
       "      <td>COLUMBUS BLUE JACKETS</td>\n",
       "      <td>0.374</td>\n",
       "      <td>1.444444</td>\n",
       "      <td>2.900000</td>\n",
       "      <td>-0.095778</td>\n",
       "      <td>0.084600</td>\n",
       "      <td>5</td>\n",
       "      <td>2</td>\n",
       "      <td>-1.000000</td>\n",
       "      <td>0.444444</td>\n",
       "      <td>-1.000000</td>\n",
       "    </tr>\n",
       "    <tr>\n",
       "      <th>44</th>\n",
       "      <td>2023-11-09</td>\n",
       "      <td>ARIZONA COYOTES</td>\n",
       "      <td>0.554</td>\n",
       "      <td>ST. LOUIS BLUES</td>\n",
       "      <td>0.446</td>\n",
       "      <td>1.952381</td>\n",
       "      <td>1.869565</td>\n",
       "      <td>0.081619</td>\n",
       "      <td>-0.166174</td>\n",
       "      <td>1</td>\n",
       "      <td>2</td>\n",
       "      <td>-1.000000</td>\n",
       "      <td>0.869565</td>\n",
       "      <td>-1.000000</td>\n",
       "    </tr>\n",
       "    <tr>\n",
       "      <th>45</th>\n",
       "      <td>2023-11-09</td>\n",
       "      <td>NASHVILLE PREDATORS</td>\n",
       "      <td>0.377</td>\n",
       "      <td>WINNIPEG JETS</td>\n",
       "      <td>0.623</td>\n",
       "      <td>2.100000</td>\n",
       "      <td>1.769231</td>\n",
       "      <td>-0.208300</td>\n",
       "      <td>0.102231</td>\n",
       "      <td>3</td>\n",
       "      <td>6</td>\n",
       "      <td>0.769231</td>\n",
       "      <td>0.769231</td>\n",
       "      <td>-1.000000</td>\n",
       "    </tr>\n",
       "    <tr>\n",
       "      <th>46</th>\n",
       "      <td>2023-11-09</td>\n",
       "      <td>SEATTLE KRAKEN</td>\n",
       "      <td>0.337</td>\n",
       "      <td>COLORADO AVALANCHE</td>\n",
       "      <td>0.663</td>\n",
       "      <td>2.650000</td>\n",
       "      <td>1.512821</td>\n",
       "      <td>-0.106950</td>\n",
       "      <td>0.003000</td>\n",
       "      <td>4</td>\n",
       "      <td>3</td>\n",
       "      <td>-1.000000</td>\n",
       "      <td>-1.000000</td>\n",
       "      <td>1.650000</td>\n",
       "    </tr>\n",
       "    <tr>\n",
       "      <th>47</th>\n",
       "      <td>2023-11-09</td>\n",
       "      <td>PITTSBURGH PENGUINS</td>\n",
       "      <td>0.459</td>\n",
       "      <td>LOS ANGELES KINGS</td>\n",
       "      <td>0.541</td>\n",
       "      <td>2.100000</td>\n",
       "      <td>1.769231</td>\n",
       "      <td>-0.036100</td>\n",
       "      <td>-0.042846</td>\n",
       "      <td>4</td>\n",
       "      <td>3</td>\n",
       "      <td>0.000000</td>\n",
       "      <td>-1.000000</td>\n",
       "      <td>1.100000</td>\n",
       "    </tr>\n",
       "    <tr>\n",
       "      <th>48</th>\n",
       "      <td>2023-11-10</td>\n",
       "      <td>MINNESOTA WILD</td>\n",
       "      <td>0.488</td>\n",
       "      <td>BUFFALO SABRES</td>\n",
       "      <td>0.512</td>\n",
       "      <td>2.000000</td>\n",
       "      <td>1.833333</td>\n",
       "      <td>-0.024000</td>\n",
       "      <td>-0.061333</td>\n",
       "      <td>2</td>\n",
       "      <td>3</td>\n",
       "      <td>0.000000</td>\n",
       "      <td>0.833333</td>\n",
       "      <td>-1.000000</td>\n",
       "    </tr>\n",
       "    <tr>\n",
       "      <th>49</th>\n",
       "      <td>2023-11-10</td>\n",
       "      <td>CAROLINA HURRICANES</td>\n",
       "      <td>0.565</td>\n",
       "      <td>FLORIDA PANTHERS</td>\n",
       "      <td>0.435</td>\n",
       "      <td>1.769231</td>\n",
       "      <td>2.100000</td>\n",
       "      <td>-0.000385</td>\n",
       "      <td>-0.086500</td>\n",
       "      <td>2</td>\n",
       "      <td>5</td>\n",
       "      <td>0.000000</td>\n",
       "      <td>-1.000000</td>\n",
       "      <td>1.100000</td>\n",
       "    </tr>\n",
       "    <tr>\n",
       "      <th>50</th>\n",
       "      <td>2023-11-10</td>\n",
       "      <td>WASHINGTON CAPITALS</td>\n",
       "      <td>0.323</td>\n",
       "      <td>NEW JERSEY DEVILS</td>\n",
       "      <td>0.677</td>\n",
       "      <td>2.550000</td>\n",
       "      <td>1.540541</td>\n",
       "      <td>-0.176350</td>\n",
       "      <td>0.042946</td>\n",
       "      <td>4</td>\n",
       "      <td>2</td>\n",
       "      <td>-1.000000</td>\n",
       "      <td>-1.000000</td>\n",
       "      <td>1.550000</td>\n",
       "    </tr>\n",
       "    <tr>\n",
       "      <th>51</th>\n",
       "      <td>2023-11-10</td>\n",
       "      <td>CALGARY FLAMES</td>\n",
       "      <td>0.393</td>\n",
       "      <td>TORONTO MAPLE LEAFS</td>\n",
       "      <td>0.607</td>\n",
       "      <td>2.300000</td>\n",
       "      <td>1.666667</td>\n",
       "      <td>-0.096100</td>\n",
       "      <td>0.011667</td>\n",
       "      <td>4</td>\n",
       "      <td>5</td>\n",
       "      <td>0.666667</td>\n",
       "      <td>0.666667</td>\n",
       "      <td>-1.000000</td>\n",
       "    </tr>\n",
       "    <tr>\n",
       "      <th>52</th>\n",
       "      <td>2023-11-10</td>\n",
       "      <td>SAN JOSE SHARKS</td>\n",
       "      <td>0.271</td>\n",
       "      <td>VEGAS GOLDEN KNIGHTS</td>\n",
       "      <td>0.729</td>\n",
       "      <td>5.000000</td>\n",
       "      <td>1.192308</td>\n",
       "      <td>0.355000</td>\n",
       "      <td>-0.130808</td>\n",
       "      <td>0</td>\n",
       "      <td>5</td>\n",
       "      <td>-1.000000</td>\n",
       "      <td>0.192308</td>\n",
       "      <td>-1.000000</td>\n",
       "    </tr>\n",
       "    <tr>\n",
       "      <th>53</th>\n",
       "      <td>2023-11-13</td>\n",
       "      <td>NEW YORK ISLANDERS</td>\n",
       "      <td>0.353</td>\n",
       "      <td>EDMONTON OILERS</td>\n",
       "      <td>0.647</td>\n",
       "      <td>2.350000</td>\n",
       "      <td>1.645161</td>\n",
       "      <td>-0.170450</td>\n",
       "      <td>0.064419</td>\n",
       "      <td>1</td>\n",
       "      <td>4</td>\n",
       "      <td>0.645161</td>\n",
       "      <td>0.645161</td>\n",
       "      <td>-1.000000</td>\n",
       "    </tr>\n",
       "  </tbody>\n",
       "</table>\n",
       "</div>"
      ],
      "text/plain": [
       "          date              away_team  away_win_prob              home_team  \\\n",
       "0   2023-11-02    TAMPA BAY LIGHTNING          0.569  COLUMBUS BLUE JACKETS   \n",
       "1   2023-11-02       FLORIDA PANTHERS          0.533      DETROIT RED WINGS   \n",
       "2   2023-11-02    CAROLINA HURRICANES          0.517       NEW YORK RANGERS   \n",
       "3   2023-11-02      LOS ANGELES KINGS          0.506        OTTAWA SENATORS   \n",
       "4   2023-11-02     NEW YORK ISLANDERS          0.521    WASHINGTON CAPITALS   \n",
       "5   2023-11-02    TORONTO MAPLE LEAFS          0.458          BOSTON BRUINS   \n",
       "6   2023-11-02      NEW JERSEY DEVILS          0.559         MINNESOTA WILD   \n",
       "7   2023-11-02           DALLAS STARS          0.416        EDMONTON OILERS   \n",
       "8   2023-11-02     MONTREAL CANADIENS          0.468        ARIZONA COYOTES   \n",
       "9   2023-11-02    NASHVILLE PREDATORS          0.465         SEATTLE KRAKEN   \n",
       "10  2023-11-02          WINNIPEG JETS          0.447   VEGAS GOLDEN KNIGHTS   \n",
       "11  2023-11-02      VANCOUVER CANUCKS          0.687        SAN JOSE SHARKS   \n",
       "12  2023-11-04    NASHVILLE PREDATORS          0.343        EDMONTON OILERS   \n",
       "13  2023-11-04          WINNIPEG JETS          0.522        ARIZONA COYOTES   \n",
       "14  2023-11-04     MONTREAL CANADIENS          0.515        ST. LOUIS BLUES   \n",
       "15  2023-11-04          BOSTON BRUINS          0.548      DETROIT RED WINGS   \n",
       "16  2023-11-04    TAMPA BAY LIGHTNING          0.504        OTTAWA SENATORS   \n",
       "17  2023-11-04         BUFFALO SABRES          0.399    TORONTO MAPLE LEAFS   \n",
       "18  2023-11-04  COLUMBUS BLUE JACKETS          0.410    WASHINGTON CAPITALS   \n",
       "19  2023-11-04      LOS ANGELES KINGS          0.615    PHILADELPHIA FLYERS   \n",
       "20  2023-11-04    CAROLINA HURRICANES          0.547     NEW YORK ISLANDERS   \n",
       "21  2023-11-04       FLORIDA PANTHERS          0.661     CHICAGO BLACKHAWKS   \n",
       "22  2023-11-04       NEW YORK RANGERS          0.488         MINNESOTA WILD   \n",
       "23  2023-11-04    PITTSBURGH PENGUINS          0.688        SAN JOSE SHARKS   \n",
       "24  2023-11-04           DALLAS STARS          0.488      VANCOUVER CANUCKS   \n",
       "25  2023-11-04     COLORADO AVALANCHE          0.481   VEGAS GOLDEN KNIGHTS   \n",
       "26  2023-11-05      NEW JERSEY DEVILS          0.688     CHICAGO BLACKHAWKS   \n",
       "27  2023-11-07         BUFFALO SABRES          0.370    CAROLINA HURRICANES   \n",
       "28  2023-11-07    TAMPA BAY LIGHTNING          0.586     MONTREAL CANADIENS   \n",
       "29  2023-11-07         MINNESOTA WILD          0.503     NEW YORK ISLANDERS   \n",
       "30  2023-11-07      DETROIT RED WINGS          0.386       NEW YORK RANGERS   \n",
       "31  2023-11-07          WINNIPEG JETS          0.576        ST. LOUIS BLUES   \n",
       "32  2023-11-07         SEATTLE KRAKEN          0.490        ARIZONA COYOTES   \n",
       "33  2023-11-07    NASHVILLE PREDATORS          0.458         CALGARY FLAMES   \n",
       "34  2023-11-07    PITTSBURGH PENGUINS          0.602          ANAHEIM DUCKS   \n",
       "35  2023-11-07      NEW JERSEY DEVILS          0.395     COLORADO AVALANCHE   \n",
       "36  2023-11-08        OTTAWA SENATORS          0.374    TORONTO MAPLE LEAFS   \n",
       "37  2023-11-08       FLORIDA PANTHERS          0.560    WASHINGTON CAPITALS   \n",
       "38  2023-11-09     NEW YORK ISLANDERS          0.396          BOSTON BRUINS   \n",
       "39  2023-11-09     MONTREAL CANADIENS          0.368      DETROIT RED WINGS   \n",
       "40  2023-11-09         MINNESOTA WILD          0.475       NEW YORK RANGERS   \n",
       "41  2023-11-09      VANCOUVER CANUCKS          0.556        OTTAWA SENATORS   \n",
       "42  2023-11-09     CHICAGO BLACKHAWKS          0.253    TAMPA BAY LIGHTNING   \n",
       "43  2023-11-09           DALLAS STARS          0.626  COLUMBUS BLUE JACKETS   \n",
       "44  2023-11-09        ARIZONA COYOTES          0.554        ST. LOUIS BLUES   \n",
       "45  2023-11-09    NASHVILLE PREDATORS          0.377          WINNIPEG JETS   \n",
       "46  2023-11-09         SEATTLE KRAKEN          0.337     COLORADO AVALANCHE   \n",
       "47  2023-11-09    PITTSBURGH PENGUINS          0.459      LOS ANGELES KINGS   \n",
       "48  2023-11-10         MINNESOTA WILD          0.488         BUFFALO SABRES   \n",
       "49  2023-11-10    CAROLINA HURRICANES          0.565       FLORIDA PANTHERS   \n",
       "50  2023-11-10    WASHINGTON CAPITALS          0.323      NEW JERSEY DEVILS   \n",
       "51  2023-11-10         CALGARY FLAMES          0.393    TORONTO MAPLE LEAFS   \n",
       "52  2023-11-10        SAN JOSE SHARKS          0.271   VEGAS GOLDEN KNIGHTS   \n",
       "53  2023-11-13     NEW YORK ISLANDERS          0.353        EDMONTON OILERS   \n",
       "\n",
       "    home_win_prob  away_odds  home_odds   away_ev   home_ev  away_score  \\\n",
       "0           0.431   1.606061   2.350000 -0.086152  0.012850           2   \n",
       "1           0.467   1.833333   2.000000 -0.022833 -0.066000           2   \n",
       "2           0.483   1.952381   1.869565  0.009381 -0.097000           1   \n",
       "3           0.494   1.909091   1.909091 -0.034000 -0.056909           3   \n",
       "4           0.479   1.833333   2.000000 -0.044833 -0.042000           3   \n",
       "5           0.542   1.869565   1.952381 -0.143739  0.058190           2   \n",
       "6           0.441   1.833333   2.000000  0.024833 -0.118000           5   \n",
       "7           0.584   2.300000   1.666667 -0.043200 -0.026667           4   \n",
       "8           0.532   2.100000   1.769231 -0.017200 -0.058769           2   \n",
       "9           0.535   2.000000   1.833333 -0.070000 -0.019167           2   \n",
       "10          0.553   2.150000   1.740741 -0.038950 -0.037370           2   \n",
       "11          0.313   1.434783   2.950000 -0.014304 -0.076650          10   \n",
       "12          0.657   2.550000   1.540541 -0.125350  0.012135           5   \n",
       "13          0.478   1.769231   2.100000 -0.076462  0.003800           5   \n",
       "14          0.485   2.000000   1.833333  0.030000 -0.110833           3   \n",
       "15          0.452   1.714286   2.200000 -0.060571 -0.005600           4   \n",
       "16          0.496   2.000000   1.833333  0.008000 -0.090667           6   \n",
       "17          0.601   2.900000   1.444444  0.157100 -0.131889           6   \n",
       "18          0.590   2.300000   1.666667 -0.057000 -0.016667           1   \n",
       "19          0.385   1.540541   2.550000 -0.052568 -0.018250           5   \n",
       "20          0.453   1.769231   2.100000 -0.032231 -0.048700           4   \n",
       "21          0.339   1.500000   2.700000 -0.008500 -0.084700           2   \n",
       "22          0.512   2.000000   1.833333 -0.024000 -0.061333           4   \n",
       "23          0.312   1.400000   3.100000 -0.036800 -0.032800          10   \n",
       "24          0.512   1.800000   2.050000 -0.121600  0.049600           0   \n",
       "25          0.519   1.833333   2.000000 -0.118167  0.038000           0   \n",
       "26          0.312   1.465116   2.800000  0.008000 -0.126400           4   \n",
       "27          0.630   2.800000   1.465116  0.036000 -0.076977           2   \n",
       "28          0.414   1.769231   2.100000  0.036769 -0.130600           5   \n",
       "29          0.497   1.909091   1.909091 -0.039727 -0.051182           4   \n",
       "30          0.614   2.250000   1.689655 -0.131500  0.037448           3   \n",
       "31          0.424   1.689655   2.250000 -0.026759 -0.046000           5   \n",
       "32          0.510   1.909091   1.909091 -0.064545 -0.026364           3   \n",
       "33          0.542   2.050000   1.800000 -0.061100 -0.024400           2   \n",
       "34          0.398   1.526316   2.600000 -0.081158  0.034800           2   \n",
       "35          0.605   2.550000   1.555556  0.007250 -0.058889           3   \n",
       "36          0.626   2.450000   1.588235 -0.083700 -0.005765           6   \n",
       "37          0.440   1.714286   2.200000 -0.040000 -0.032000           4   \n",
       "38          0.604   2.100000   1.769231 -0.168400  0.068615           2   \n",
       "39          0.632   2.550000   1.540541 -0.061600 -0.026378           3   \n",
       "40          0.525   2.000000   1.833333 -0.050000 -0.037500           1   \n",
       "41          0.444   1.800000   2.050000  0.000800 -0.089800           5   \n",
       "42          0.747   3.000000   1.416667 -0.241000  0.058250           5   \n",
       "43          0.374   1.444444   2.900000 -0.095778  0.084600           5   \n",
       "44          0.446   1.952381   1.869565  0.081619 -0.166174           1   \n",
       "45          0.623   2.100000   1.769231 -0.208300  0.102231           3   \n",
       "46          0.663   2.650000   1.512821 -0.106950  0.003000           4   \n",
       "47          0.541   2.100000   1.769231 -0.036100 -0.042846           4   \n",
       "48          0.512   2.000000   1.833333 -0.024000 -0.061333           2   \n",
       "49          0.435   1.769231   2.100000 -0.000385 -0.086500           2   \n",
       "50          0.677   2.550000   1.540541 -0.176350  0.042946           4   \n",
       "51          0.607   2.300000   1.666667 -0.096100  0.011667           4   \n",
       "52          0.729   5.000000   1.192308  0.355000 -0.130808           0   \n",
       "53          0.647   2.350000   1.645161 -0.170450  0.064419           1   \n",
       "\n",
       "    home_score  ev_profit  favorite  underdog  \n",
       "0            4   1.350000 -1.000000  1.350000  \n",
       "1            0   0.000000  0.833333 -1.000000  \n",
       "2            2  -1.000000  0.869565 -1.000000  \n",
       "3            2   0.000000  0.000000  0.000000  \n",
       "4            0   0.000000  0.833333 -1.000000  \n",
       "5            3   0.952381 -1.000000  0.952381  \n",
       "6            3   0.833333  0.833333 -1.000000  \n",
       "7            3   0.000000 -1.000000  1.300000  \n",
       "8            3   0.000000  0.769231 -1.000000  \n",
       "9            4   0.000000  0.833333 -1.000000  \n",
       "10           5   0.000000  0.740741 -1.000000  \n",
       "11           1   0.000000  0.434783 -1.000000  \n",
       "12           2  -1.000000 -1.000000  1.550000  \n",
       "13           3  -1.000000  0.769231 -1.000000  \n",
       "14           6  -1.000000  0.833333 -1.000000  \n",
       "15           5   0.000000 -1.000000  1.200000  \n",
       "16           4   1.000000 -1.000000  1.000000  \n",
       "17           4   1.900000 -1.000000  1.900000  \n",
       "18           2   0.000000  0.666667 -1.000000  \n",
       "19           0   0.000000  0.540541 -1.000000  \n",
       "20           3   0.000000  0.769231 -1.000000  \n",
       "21           5   0.000000 -1.000000  1.700000  \n",
       "22           5   0.000000  0.833333 -1.000000  \n",
       "23           2   0.000000  0.400000 -1.000000  \n",
       "24           2   1.050000 -1.000000  1.050000  \n",
       "25           7   1.000000 -1.000000  1.000000  \n",
       "26           2   0.465116  0.465116 -1.000000  \n",
       "27           3  -1.000000  0.465116 -1.000000  \n",
       "28           3   0.769231  0.769231 -1.000000  \n",
       "29           2   0.000000  0.000000  0.000000  \n",
       "30           5   0.689655  0.689655 -1.000000  \n",
       "31           2   0.000000  0.689655 -1.000000  \n",
       "32           4   0.000000  0.000000  0.000000  \n",
       "33           4   0.000000  0.800000 -1.000000  \n",
       "34           0  -1.000000  0.526316 -1.000000  \n",
       "35           6  -1.000000  0.555556 -1.000000  \n",
       "36           3   0.000000 -1.000000  1.450000  \n",
       "37           3   0.000000  0.714286 -1.000000  \n",
       "38           5   0.769231  0.769231 -1.000000  \n",
       "39           2   0.000000 -1.000000  1.550000  \n",
       "40           4   0.000000  0.833333 -1.000000  \n",
       "41           2   0.800000  0.800000 -1.000000  \n",
       "42           3  -1.000000 -1.000000  2.000000  \n",
       "43           2  -1.000000  0.444444 -1.000000  \n",
       "44           2  -1.000000  0.869565 -1.000000  \n",
       "45           6   0.769231  0.769231 -1.000000  \n",
       "46           3  -1.000000 -1.000000  1.650000  \n",
       "47           3   0.000000 -1.000000  1.100000  \n",
       "48           3   0.000000  0.833333 -1.000000  \n",
       "49           5   0.000000 -1.000000  1.100000  \n",
       "50           2  -1.000000 -1.000000  1.550000  \n",
       "51           5   0.666667  0.666667 -1.000000  \n",
       "52           5  -1.000000  0.192308 -1.000000  \n",
       "53           4   0.645161  0.645161 -1.000000  "
      ]
     },
     "execution_count": 26,
     "metadata": {},
     "output_type": "execute_result"
    }
   ],
   "source": [
    "#profit_df, implement favorite, underdog, moneypuck EV strategies\n",
    "profit_df = temp_df.merge(games_df, on=[\"date\",\"away_team\",\"home_team\"])\n",
    "profit_df[\"ev_profit\"] = np.where(profit_df[\"away_ev\"] > 0, np.where(profit_df[\"away_score\"] > profit_df[\"home_score\"], \n",
    "                                                                    profit_df[\"away_odds\"]-1, -1), \n",
    "                                  np.where(profit_df[\"home_ev\"] > 0, np.where(profit_df[\"home_score\"]>profit_df[\"away_score\"],\n",
    "                                                                    profit_df[\"home_odds\"]-1, -1), 0))\n",
    "profit_df[\"favorite\"] = np.where(profit_df[\"away_odds\"] < profit_df[\"home_odds\"], np.where(profit_df[\"away_score\"] > profit_df[\"home_score\"],\n",
    "                                                                                          profit_df[\"away_odds\"]-1,-1),\n",
    "                                np.where(profit_df[\"away_odds\"] > profit_df[\"home_odds\"], np.where(profit_df[\"away_score\"] < profit_df[\"home_score\"],\n",
    "                                                                                                  profit_df[\"home_odds\"]-1,-1), 0))\n",
    "profit_df[\"underdog\"] = np.where(profit_df[\"away_odds\"] > profit_df[\"home_odds\"], np.where(profit_df[\"away_score\"] > profit_df[\"home_score\"],\n",
    "                                                                                          profit_df[\"away_odds\"]-1,-1),\n",
    "                                np.where(profit_df[\"away_odds\"] < profit_df[\"home_odds\"], np.where(profit_df[\"away_score\"] < profit_df[\"home_score\"],\n",
    "                                                                                                  profit_df[\"home_odds\"]-1,-1), 0))\n",
    "profit_df"
   ]
  },
  {
   "cell_type": "code",
   "execution_count": 28,
   "id": "70995a37",
   "metadata": {},
   "outputs": [
    {
     "name": "stdout",
     "output_type": "stream",
     "text": [
      "Average Return on Positive Expected Value Bets: 2.3572%\n",
      "Positive EV Sample Size (Bets Placed): 28\n",
      "Average Return on Betting Favorite Bets: 12.6631%\n",
      "Betting Favorite Sample Size (Bets Placed): 51\n",
      "Average Return on Underdog Bets: -20.7796%\n",
      "Underdog Sample Size (Bets Placed): 51\n"
     ]
    }
   ],
   "source": [
    "ev_bets = profit_df[profit_df[\"ev_profit\"] != 0]\n",
    "favorite_bets = profit_df[profit_df[\"favorite\"] != 0]\n",
    "underdog_bets = profit_df[profit_df[\"underdog\"] != 0]\n",
    "\n",
    "print(\"Average Return on Positive Expected Value Bets: {:.4%}\".format(ev_bets[\"ev_profit\"].mean()))\n",
    "print(\"Positive EV Sample Size (Bets Placed): {}\".format(len(ev_bets[\"ev_profit\"])))\n",
    "print(\"Average Return on Betting Favorite Bets: {:.4%}\".format(favorite_bets[\"favorite\"].mean()))\n",
    "print(\"Betting Favorite Sample Size (Bets Placed): {}\".format(len(favorite_bets[\"favorite\"])))\n",
    "print(\"Average Return on Underdog Bets: {:.4%}\".format(underdog_bets[\"underdog\"].mean()))\n",
    "print(\"Underdog Sample Size (Bets Placed): {}\".format(len(underdog_bets[\"underdog\"])))"
   ]
  },
  {
   "cell_type": "code",
   "execution_count": 36,
   "id": "ceba640c",
   "metadata": {},
   "outputs": [
    {
     "data": {
      "application/vnd.plotly.v1+json": {
       "config": {
        "plotlyServerURL": "https://plot.ly"
       },
       "data": [
        {
         "hovertemplate": "date=%{x}<br>ev_profit=%{y}<extra></extra>",
         "legendgroup": "",
         "marker": {
          "color": "#636efa",
          "symbol": "circle"
         },
         "mode": "markers",
         "name": "",
         "orientation": "v",
         "showlegend": false,
         "type": "scatter",
         "x": [
          "2023-11-02",
          "2023-11-04",
          "2023-11-05",
          "2023-11-07",
          "2023-11-09",
          "2023-11-10",
          "2023-11-13"
         ],
         "xaxis": "x",
         "y": [
          0.5339285714285714,
          0.2785714285714285,
          0.4651162790697674,
          -0.30822281167108756,
          -0.23736263736263738,
          -0.4444444444444446,
          0.6451612903225803
         ],
         "yaxis": "y"
        },
        {
         "mode": "markers",
         "name": "Betting Favorite",
         "type": "scatter",
         "x": [
          "2023-11-02",
          "2023-11-04",
          "2023-11-05",
          "2023-11-07",
          "2023-11-08",
          "2023-11-09",
          "2023-11-10",
          "2023-11-13"
         ],
         "y": [
          0.2861502426719818,
          -0.15626175626175634,
          0.4651162790697674,
          0.6422183911653375,
          -0.1428571428571428,
          0.04858045336306205,
          -0.06153846153846163,
          0.6451612903225803
         ]
        },
        {
         "mode": "markers",
         "name": "Underdog",
         "type": "scatter",
         "x": [
          "2023-11-02",
          "2023-11-04",
          "2023-11-05",
          "2023-11-07",
          "2023-11-08",
          "2023-11-09",
          "2023-11-10",
          "2023-11-13"
         ],
         "y": [
          -0.3997835497835498,
          0.17142857142857143,
          -1,
          -1,
          0.2250000000000001,
          0.02999999999999998,
          -0.07000000000000002,
          -1
         ]
        }
       ],
       "layout": {
        "legend": {
         "tracegroupgap": 0
        },
        "margin": {
         "t": 60
        },
        "template": {
         "data": {
          "bar": [
           {
            "error_x": {
             "color": "#2a3f5f"
            },
            "error_y": {
             "color": "#2a3f5f"
            },
            "marker": {
             "line": {
              "color": "#E5ECF6",
              "width": 0.5
             },
             "pattern": {
              "fillmode": "overlay",
              "size": 10,
              "solidity": 0.2
             }
            },
            "type": "bar"
           }
          ],
          "barpolar": [
           {
            "marker": {
             "line": {
              "color": "#E5ECF6",
              "width": 0.5
             },
             "pattern": {
              "fillmode": "overlay",
              "size": 10,
              "solidity": 0.2
             }
            },
            "type": "barpolar"
           }
          ],
          "carpet": [
           {
            "aaxis": {
             "endlinecolor": "#2a3f5f",
             "gridcolor": "white",
             "linecolor": "white",
             "minorgridcolor": "white",
             "startlinecolor": "#2a3f5f"
            },
            "baxis": {
             "endlinecolor": "#2a3f5f",
             "gridcolor": "white",
             "linecolor": "white",
             "minorgridcolor": "white",
             "startlinecolor": "#2a3f5f"
            },
            "type": "carpet"
           }
          ],
          "choropleth": [
           {
            "colorbar": {
             "outlinewidth": 0,
             "ticks": ""
            },
            "type": "choropleth"
           }
          ],
          "contour": [
           {
            "colorbar": {
             "outlinewidth": 0,
             "ticks": ""
            },
            "colorscale": [
             [
              0,
              "#0d0887"
             ],
             [
              0.1111111111111111,
              "#46039f"
             ],
             [
              0.2222222222222222,
              "#7201a8"
             ],
             [
              0.3333333333333333,
              "#9c179e"
             ],
             [
              0.4444444444444444,
              "#bd3786"
             ],
             [
              0.5555555555555556,
              "#d8576b"
             ],
             [
              0.6666666666666666,
              "#ed7953"
             ],
             [
              0.7777777777777778,
              "#fb9f3a"
             ],
             [
              0.8888888888888888,
              "#fdca26"
             ],
             [
              1,
              "#f0f921"
             ]
            ],
            "type": "contour"
           }
          ],
          "contourcarpet": [
           {
            "colorbar": {
             "outlinewidth": 0,
             "ticks": ""
            },
            "type": "contourcarpet"
           }
          ],
          "heatmap": [
           {
            "colorbar": {
             "outlinewidth": 0,
             "ticks": ""
            },
            "colorscale": [
             [
              0,
              "#0d0887"
             ],
             [
              0.1111111111111111,
              "#46039f"
             ],
             [
              0.2222222222222222,
              "#7201a8"
             ],
             [
              0.3333333333333333,
              "#9c179e"
             ],
             [
              0.4444444444444444,
              "#bd3786"
             ],
             [
              0.5555555555555556,
              "#d8576b"
             ],
             [
              0.6666666666666666,
              "#ed7953"
             ],
             [
              0.7777777777777778,
              "#fb9f3a"
             ],
             [
              0.8888888888888888,
              "#fdca26"
             ],
             [
              1,
              "#f0f921"
             ]
            ],
            "type": "heatmap"
           }
          ],
          "heatmapgl": [
           {
            "colorbar": {
             "outlinewidth": 0,
             "ticks": ""
            },
            "colorscale": [
             [
              0,
              "#0d0887"
             ],
             [
              0.1111111111111111,
              "#46039f"
             ],
             [
              0.2222222222222222,
              "#7201a8"
             ],
             [
              0.3333333333333333,
              "#9c179e"
             ],
             [
              0.4444444444444444,
              "#bd3786"
             ],
             [
              0.5555555555555556,
              "#d8576b"
             ],
             [
              0.6666666666666666,
              "#ed7953"
             ],
             [
              0.7777777777777778,
              "#fb9f3a"
             ],
             [
              0.8888888888888888,
              "#fdca26"
             ],
             [
              1,
              "#f0f921"
             ]
            ],
            "type": "heatmapgl"
           }
          ],
          "histogram": [
           {
            "marker": {
             "pattern": {
              "fillmode": "overlay",
              "size": 10,
              "solidity": 0.2
             }
            },
            "type": "histogram"
           }
          ],
          "histogram2d": [
           {
            "colorbar": {
             "outlinewidth": 0,
             "ticks": ""
            },
            "colorscale": [
             [
              0,
              "#0d0887"
             ],
             [
              0.1111111111111111,
              "#46039f"
             ],
             [
              0.2222222222222222,
              "#7201a8"
             ],
             [
              0.3333333333333333,
              "#9c179e"
             ],
             [
              0.4444444444444444,
              "#bd3786"
             ],
             [
              0.5555555555555556,
              "#d8576b"
             ],
             [
              0.6666666666666666,
              "#ed7953"
             ],
             [
              0.7777777777777778,
              "#fb9f3a"
             ],
             [
              0.8888888888888888,
              "#fdca26"
             ],
             [
              1,
              "#f0f921"
             ]
            ],
            "type": "histogram2d"
           }
          ],
          "histogram2dcontour": [
           {
            "colorbar": {
             "outlinewidth": 0,
             "ticks": ""
            },
            "colorscale": [
             [
              0,
              "#0d0887"
             ],
             [
              0.1111111111111111,
              "#46039f"
             ],
             [
              0.2222222222222222,
              "#7201a8"
             ],
             [
              0.3333333333333333,
              "#9c179e"
             ],
             [
              0.4444444444444444,
              "#bd3786"
             ],
             [
              0.5555555555555556,
              "#d8576b"
             ],
             [
              0.6666666666666666,
              "#ed7953"
             ],
             [
              0.7777777777777778,
              "#fb9f3a"
             ],
             [
              0.8888888888888888,
              "#fdca26"
             ],
             [
              1,
              "#f0f921"
             ]
            ],
            "type": "histogram2dcontour"
           }
          ],
          "mesh3d": [
           {
            "colorbar": {
             "outlinewidth": 0,
             "ticks": ""
            },
            "type": "mesh3d"
           }
          ],
          "parcoords": [
           {
            "line": {
             "colorbar": {
              "outlinewidth": 0,
              "ticks": ""
             }
            },
            "type": "parcoords"
           }
          ],
          "pie": [
           {
            "automargin": true,
            "type": "pie"
           }
          ],
          "scatter": [
           {
            "fillpattern": {
             "fillmode": "overlay",
             "size": 10,
             "solidity": 0.2
            },
            "type": "scatter"
           }
          ],
          "scatter3d": [
           {
            "line": {
             "colorbar": {
              "outlinewidth": 0,
              "ticks": ""
             }
            },
            "marker": {
             "colorbar": {
              "outlinewidth": 0,
              "ticks": ""
             }
            },
            "type": "scatter3d"
           }
          ],
          "scattercarpet": [
           {
            "marker": {
             "colorbar": {
              "outlinewidth": 0,
              "ticks": ""
             }
            },
            "type": "scattercarpet"
           }
          ],
          "scattergeo": [
           {
            "marker": {
             "colorbar": {
              "outlinewidth": 0,
              "ticks": ""
             }
            },
            "type": "scattergeo"
           }
          ],
          "scattergl": [
           {
            "marker": {
             "colorbar": {
              "outlinewidth": 0,
              "ticks": ""
             }
            },
            "type": "scattergl"
           }
          ],
          "scattermapbox": [
           {
            "marker": {
             "colorbar": {
              "outlinewidth": 0,
              "ticks": ""
             }
            },
            "type": "scattermapbox"
           }
          ],
          "scatterpolar": [
           {
            "marker": {
             "colorbar": {
              "outlinewidth": 0,
              "ticks": ""
             }
            },
            "type": "scatterpolar"
           }
          ],
          "scatterpolargl": [
           {
            "marker": {
             "colorbar": {
              "outlinewidth": 0,
              "ticks": ""
             }
            },
            "type": "scatterpolargl"
           }
          ],
          "scatterternary": [
           {
            "marker": {
             "colorbar": {
              "outlinewidth": 0,
              "ticks": ""
             }
            },
            "type": "scatterternary"
           }
          ],
          "surface": [
           {
            "colorbar": {
             "outlinewidth": 0,
             "ticks": ""
            },
            "colorscale": [
             [
              0,
              "#0d0887"
             ],
             [
              0.1111111111111111,
              "#46039f"
             ],
             [
              0.2222222222222222,
              "#7201a8"
             ],
             [
              0.3333333333333333,
              "#9c179e"
             ],
             [
              0.4444444444444444,
              "#bd3786"
             ],
             [
              0.5555555555555556,
              "#d8576b"
             ],
             [
              0.6666666666666666,
              "#ed7953"
             ],
             [
              0.7777777777777778,
              "#fb9f3a"
             ],
             [
              0.8888888888888888,
              "#fdca26"
             ],
             [
              1,
              "#f0f921"
             ]
            ],
            "type": "surface"
           }
          ],
          "table": [
           {
            "cells": {
             "fill": {
              "color": "#EBF0F8"
             },
             "line": {
              "color": "white"
             }
            },
            "header": {
             "fill": {
              "color": "#C8D4E3"
             },
             "line": {
              "color": "white"
             }
            },
            "type": "table"
           }
          ]
         },
         "layout": {
          "annotationdefaults": {
           "arrowcolor": "#2a3f5f",
           "arrowhead": 0,
           "arrowwidth": 1
          },
          "autotypenumbers": "strict",
          "coloraxis": {
           "colorbar": {
            "outlinewidth": 0,
            "ticks": ""
           }
          },
          "colorscale": {
           "diverging": [
            [
             0,
             "#8e0152"
            ],
            [
             0.1,
             "#c51b7d"
            ],
            [
             0.2,
             "#de77ae"
            ],
            [
             0.3,
             "#f1b6da"
            ],
            [
             0.4,
             "#fde0ef"
            ],
            [
             0.5,
             "#f7f7f7"
            ],
            [
             0.6,
             "#e6f5d0"
            ],
            [
             0.7,
             "#b8e186"
            ],
            [
             0.8,
             "#7fbc41"
            ],
            [
             0.9,
             "#4d9221"
            ],
            [
             1,
             "#276419"
            ]
           ],
           "sequential": [
            [
             0,
             "#0d0887"
            ],
            [
             0.1111111111111111,
             "#46039f"
            ],
            [
             0.2222222222222222,
             "#7201a8"
            ],
            [
             0.3333333333333333,
             "#9c179e"
            ],
            [
             0.4444444444444444,
             "#bd3786"
            ],
            [
             0.5555555555555556,
             "#d8576b"
            ],
            [
             0.6666666666666666,
             "#ed7953"
            ],
            [
             0.7777777777777778,
             "#fb9f3a"
            ],
            [
             0.8888888888888888,
             "#fdca26"
            ],
            [
             1,
             "#f0f921"
            ]
           ],
           "sequentialminus": [
            [
             0,
             "#0d0887"
            ],
            [
             0.1111111111111111,
             "#46039f"
            ],
            [
             0.2222222222222222,
             "#7201a8"
            ],
            [
             0.3333333333333333,
             "#9c179e"
            ],
            [
             0.4444444444444444,
             "#bd3786"
            ],
            [
             0.5555555555555556,
             "#d8576b"
            ],
            [
             0.6666666666666666,
             "#ed7953"
            ],
            [
             0.7777777777777778,
             "#fb9f3a"
            ],
            [
             0.8888888888888888,
             "#fdca26"
            ],
            [
             1,
             "#f0f921"
            ]
           ]
          },
          "colorway": [
           "#636efa",
           "#EF553B",
           "#00cc96",
           "#ab63fa",
           "#FFA15A",
           "#19d3f3",
           "#FF6692",
           "#B6E880",
           "#FF97FF",
           "#FECB52"
          ],
          "font": {
           "color": "#2a3f5f"
          },
          "geo": {
           "bgcolor": "white",
           "lakecolor": "white",
           "landcolor": "#E5ECF6",
           "showlakes": true,
           "showland": true,
           "subunitcolor": "white"
          },
          "hoverlabel": {
           "align": "left"
          },
          "hovermode": "closest",
          "mapbox": {
           "style": "light"
          },
          "paper_bgcolor": "white",
          "plot_bgcolor": "#E5ECF6",
          "polar": {
           "angularaxis": {
            "gridcolor": "white",
            "linecolor": "white",
            "ticks": ""
           },
           "bgcolor": "#E5ECF6",
           "radialaxis": {
            "gridcolor": "white",
            "linecolor": "white",
            "ticks": ""
           }
          },
          "scene": {
           "xaxis": {
            "backgroundcolor": "#E5ECF6",
            "gridcolor": "white",
            "gridwidth": 2,
            "linecolor": "white",
            "showbackground": true,
            "ticks": "",
            "zerolinecolor": "white"
           },
           "yaxis": {
            "backgroundcolor": "#E5ECF6",
            "gridcolor": "white",
            "gridwidth": 2,
            "linecolor": "white",
            "showbackground": true,
            "ticks": "",
            "zerolinecolor": "white"
           },
           "zaxis": {
            "backgroundcolor": "#E5ECF6",
            "gridcolor": "white",
            "gridwidth": 2,
            "linecolor": "white",
            "showbackground": true,
            "ticks": "",
            "zerolinecolor": "white"
           }
          },
          "shapedefaults": {
           "line": {
            "color": "#2a3f5f"
           }
          },
          "ternary": {
           "aaxis": {
            "gridcolor": "white",
            "linecolor": "white",
            "ticks": ""
           },
           "baxis": {
            "gridcolor": "white",
            "linecolor": "white",
            "ticks": ""
           },
           "bgcolor": "#E5ECF6",
           "caxis": {
            "gridcolor": "white",
            "linecolor": "white",
            "ticks": ""
           }
          },
          "title": {
           "x": 0.05
          },
          "xaxis": {
           "automargin": true,
           "gridcolor": "white",
           "linecolor": "white",
           "ticks": "",
           "title": {
            "standoff": 15
           },
           "zerolinecolor": "white",
           "zerolinewidth": 2
          },
          "yaxis": {
           "automargin": true,
           "gridcolor": "white",
           "linecolor": "white",
           "ticks": "",
           "title": {
            "standoff": 15
           },
           "zerolinecolor": "white",
           "zerolinewidth": 2
          }
         }
        },
        "xaxis": {
         "anchor": "y",
         "domain": [
          0,
          1
         ],
         "title": {
          "text": "date"
         }
        },
        "yaxis": {
         "anchor": "x",
         "domain": [
          0,
          1
         ],
         "title": {
          "text": "ev_profit"
         }
        }
       }
      },
      "text/html": [
       "<div>                            <div id=\"d424029d-ba9d-45f8-85a8-29c482e5f6d1\" class=\"plotly-graph-div\" style=\"height:525px; width:100%;\"></div>            <script type=\"text/javascript\">                require([\"plotly\"], function(Plotly) {                    window.PLOTLYENV=window.PLOTLYENV || {};                                    if (document.getElementById(\"d424029d-ba9d-45f8-85a8-29c482e5f6d1\")) {                    Plotly.newPlot(                        \"d424029d-ba9d-45f8-85a8-29c482e5f6d1\",                        [{\"hovertemplate\":\"date=%{x}<br>ev_profit=%{y}<extra></extra>\",\"legendgroup\":\"\",\"marker\":{\"color\":\"#636efa\",\"symbol\":\"circle\"},\"mode\":\"markers\",\"name\":\"\",\"orientation\":\"v\",\"showlegend\":false,\"x\":[\"2023-11-02\",\"2023-11-04\",\"2023-11-05\",\"2023-11-07\",\"2023-11-09\",\"2023-11-10\",\"2023-11-13\"],\"xaxis\":\"x\",\"y\":[0.5339285714285714,0.2785714285714285,0.4651162790697674,-0.30822281167108756,-0.23736263736263738,-0.4444444444444446,0.6451612903225803],\"yaxis\":\"y\",\"type\":\"scatter\"},{\"mode\":\"markers\",\"name\":\"Betting Favorite\",\"x\":[\"2023-11-02\",\"2023-11-04\",\"2023-11-05\",\"2023-11-07\",\"2023-11-08\",\"2023-11-09\",\"2023-11-10\",\"2023-11-13\"],\"y\":[0.2861502426719818,-0.15626175626175634,0.4651162790697674,0.6422183911653375,-0.1428571428571428,0.04858045336306205,-0.06153846153846163,0.6451612903225803],\"type\":\"scatter\"},{\"mode\":\"markers\",\"name\":\"Underdog\",\"x\":[\"2023-11-02\",\"2023-11-04\",\"2023-11-05\",\"2023-11-07\",\"2023-11-08\",\"2023-11-09\",\"2023-11-10\",\"2023-11-13\"],\"y\":[-0.3997835497835498,0.17142857142857143,-1.0,-1.0,0.2250000000000001,0.02999999999999998,-0.07000000000000002,-1.0],\"type\":\"scatter\"}],                        {\"template\":{\"data\":{\"histogram2dcontour\":[{\"type\":\"histogram2dcontour\",\"colorbar\":{\"outlinewidth\":0,\"ticks\":\"\"},\"colorscale\":[[0.0,\"#0d0887\"],[0.1111111111111111,\"#46039f\"],[0.2222222222222222,\"#7201a8\"],[0.3333333333333333,\"#9c179e\"],[0.4444444444444444,\"#bd3786\"],[0.5555555555555556,\"#d8576b\"],[0.6666666666666666,\"#ed7953\"],[0.7777777777777778,\"#fb9f3a\"],[0.8888888888888888,\"#fdca26\"],[1.0,\"#f0f921\"]]}],\"choropleth\":[{\"type\":\"choropleth\",\"colorbar\":{\"outlinewidth\":0,\"ticks\":\"\"}}],\"histogram2d\":[{\"type\":\"histogram2d\",\"colorbar\":{\"outlinewidth\":0,\"ticks\":\"\"},\"colorscale\":[[0.0,\"#0d0887\"],[0.1111111111111111,\"#46039f\"],[0.2222222222222222,\"#7201a8\"],[0.3333333333333333,\"#9c179e\"],[0.4444444444444444,\"#bd3786\"],[0.5555555555555556,\"#d8576b\"],[0.6666666666666666,\"#ed7953\"],[0.7777777777777778,\"#fb9f3a\"],[0.8888888888888888,\"#fdca26\"],[1.0,\"#f0f921\"]]}],\"heatmap\":[{\"type\":\"heatmap\",\"colorbar\":{\"outlinewidth\":0,\"ticks\":\"\"},\"colorscale\":[[0.0,\"#0d0887\"],[0.1111111111111111,\"#46039f\"],[0.2222222222222222,\"#7201a8\"],[0.3333333333333333,\"#9c179e\"],[0.4444444444444444,\"#bd3786\"],[0.5555555555555556,\"#d8576b\"],[0.6666666666666666,\"#ed7953\"],[0.7777777777777778,\"#fb9f3a\"],[0.8888888888888888,\"#fdca26\"],[1.0,\"#f0f921\"]]}],\"heatmapgl\":[{\"type\":\"heatmapgl\",\"colorbar\":{\"outlinewidth\":0,\"ticks\":\"\"},\"colorscale\":[[0.0,\"#0d0887\"],[0.1111111111111111,\"#46039f\"],[0.2222222222222222,\"#7201a8\"],[0.3333333333333333,\"#9c179e\"],[0.4444444444444444,\"#bd3786\"],[0.5555555555555556,\"#d8576b\"],[0.6666666666666666,\"#ed7953\"],[0.7777777777777778,\"#fb9f3a\"],[0.8888888888888888,\"#fdca26\"],[1.0,\"#f0f921\"]]}],\"contourcarpet\":[{\"type\":\"contourcarpet\",\"colorbar\":{\"outlinewidth\":0,\"ticks\":\"\"}}],\"contour\":[{\"type\":\"contour\",\"colorbar\":{\"outlinewidth\":0,\"ticks\":\"\"},\"colorscale\":[[0.0,\"#0d0887\"],[0.1111111111111111,\"#46039f\"],[0.2222222222222222,\"#7201a8\"],[0.3333333333333333,\"#9c179e\"],[0.4444444444444444,\"#bd3786\"],[0.5555555555555556,\"#d8576b\"],[0.6666666666666666,\"#ed7953\"],[0.7777777777777778,\"#fb9f3a\"],[0.8888888888888888,\"#fdca26\"],[1.0,\"#f0f921\"]]}],\"surface\":[{\"type\":\"surface\",\"colorbar\":{\"outlinewidth\":0,\"ticks\":\"\"},\"colorscale\":[[0.0,\"#0d0887\"],[0.1111111111111111,\"#46039f\"],[0.2222222222222222,\"#7201a8\"],[0.3333333333333333,\"#9c179e\"],[0.4444444444444444,\"#bd3786\"],[0.5555555555555556,\"#d8576b\"],[0.6666666666666666,\"#ed7953\"],[0.7777777777777778,\"#fb9f3a\"],[0.8888888888888888,\"#fdca26\"],[1.0,\"#f0f921\"]]}],\"mesh3d\":[{\"type\":\"mesh3d\",\"colorbar\":{\"outlinewidth\":0,\"ticks\":\"\"}}],\"scatter\":[{\"fillpattern\":{\"fillmode\":\"overlay\",\"size\":10,\"solidity\":0.2},\"type\":\"scatter\"}],\"parcoords\":[{\"type\":\"parcoords\",\"line\":{\"colorbar\":{\"outlinewidth\":0,\"ticks\":\"\"}}}],\"scatterpolargl\":[{\"type\":\"scatterpolargl\",\"marker\":{\"colorbar\":{\"outlinewidth\":0,\"ticks\":\"\"}}}],\"bar\":[{\"error_x\":{\"color\":\"#2a3f5f\"},\"error_y\":{\"color\":\"#2a3f5f\"},\"marker\":{\"line\":{\"color\":\"#E5ECF6\",\"width\":0.5},\"pattern\":{\"fillmode\":\"overlay\",\"size\":10,\"solidity\":0.2}},\"type\":\"bar\"}],\"scattergeo\":[{\"type\":\"scattergeo\",\"marker\":{\"colorbar\":{\"outlinewidth\":0,\"ticks\":\"\"}}}],\"scatterpolar\":[{\"type\":\"scatterpolar\",\"marker\":{\"colorbar\":{\"outlinewidth\":0,\"ticks\":\"\"}}}],\"histogram\":[{\"marker\":{\"pattern\":{\"fillmode\":\"overlay\",\"size\":10,\"solidity\":0.2}},\"type\":\"histogram\"}],\"scattergl\":[{\"type\":\"scattergl\",\"marker\":{\"colorbar\":{\"outlinewidth\":0,\"ticks\":\"\"}}}],\"scatter3d\":[{\"type\":\"scatter3d\",\"line\":{\"colorbar\":{\"outlinewidth\":0,\"ticks\":\"\"}},\"marker\":{\"colorbar\":{\"outlinewidth\":0,\"ticks\":\"\"}}}],\"scattermapbox\":[{\"type\":\"scattermapbox\",\"marker\":{\"colorbar\":{\"outlinewidth\":0,\"ticks\":\"\"}}}],\"scatterternary\":[{\"type\":\"scatterternary\",\"marker\":{\"colorbar\":{\"outlinewidth\":0,\"ticks\":\"\"}}}],\"scattercarpet\":[{\"type\":\"scattercarpet\",\"marker\":{\"colorbar\":{\"outlinewidth\":0,\"ticks\":\"\"}}}],\"carpet\":[{\"aaxis\":{\"endlinecolor\":\"#2a3f5f\",\"gridcolor\":\"white\",\"linecolor\":\"white\",\"minorgridcolor\":\"white\",\"startlinecolor\":\"#2a3f5f\"},\"baxis\":{\"endlinecolor\":\"#2a3f5f\",\"gridcolor\":\"white\",\"linecolor\":\"white\",\"minorgridcolor\":\"white\",\"startlinecolor\":\"#2a3f5f\"},\"type\":\"carpet\"}],\"table\":[{\"cells\":{\"fill\":{\"color\":\"#EBF0F8\"},\"line\":{\"color\":\"white\"}},\"header\":{\"fill\":{\"color\":\"#C8D4E3\"},\"line\":{\"color\":\"white\"}},\"type\":\"table\"}],\"barpolar\":[{\"marker\":{\"line\":{\"color\":\"#E5ECF6\",\"width\":0.5},\"pattern\":{\"fillmode\":\"overlay\",\"size\":10,\"solidity\":0.2}},\"type\":\"barpolar\"}],\"pie\":[{\"automargin\":true,\"type\":\"pie\"}]},\"layout\":{\"autotypenumbers\":\"strict\",\"colorway\":[\"#636efa\",\"#EF553B\",\"#00cc96\",\"#ab63fa\",\"#FFA15A\",\"#19d3f3\",\"#FF6692\",\"#B6E880\",\"#FF97FF\",\"#FECB52\"],\"font\":{\"color\":\"#2a3f5f\"},\"hovermode\":\"closest\",\"hoverlabel\":{\"align\":\"left\"},\"paper_bgcolor\":\"white\",\"plot_bgcolor\":\"#E5ECF6\",\"polar\":{\"bgcolor\":\"#E5ECF6\",\"angularaxis\":{\"gridcolor\":\"white\",\"linecolor\":\"white\",\"ticks\":\"\"},\"radialaxis\":{\"gridcolor\":\"white\",\"linecolor\":\"white\",\"ticks\":\"\"}},\"ternary\":{\"bgcolor\":\"#E5ECF6\",\"aaxis\":{\"gridcolor\":\"white\",\"linecolor\":\"white\",\"ticks\":\"\"},\"baxis\":{\"gridcolor\":\"white\",\"linecolor\":\"white\",\"ticks\":\"\"},\"caxis\":{\"gridcolor\":\"white\",\"linecolor\":\"white\",\"ticks\":\"\"}},\"coloraxis\":{\"colorbar\":{\"outlinewidth\":0,\"ticks\":\"\"}},\"colorscale\":{\"sequential\":[[0.0,\"#0d0887\"],[0.1111111111111111,\"#46039f\"],[0.2222222222222222,\"#7201a8\"],[0.3333333333333333,\"#9c179e\"],[0.4444444444444444,\"#bd3786\"],[0.5555555555555556,\"#d8576b\"],[0.6666666666666666,\"#ed7953\"],[0.7777777777777778,\"#fb9f3a\"],[0.8888888888888888,\"#fdca26\"],[1.0,\"#f0f921\"]],\"sequentialminus\":[[0.0,\"#0d0887\"],[0.1111111111111111,\"#46039f\"],[0.2222222222222222,\"#7201a8\"],[0.3333333333333333,\"#9c179e\"],[0.4444444444444444,\"#bd3786\"],[0.5555555555555556,\"#d8576b\"],[0.6666666666666666,\"#ed7953\"],[0.7777777777777778,\"#fb9f3a\"],[0.8888888888888888,\"#fdca26\"],[1.0,\"#f0f921\"]],\"diverging\":[[0,\"#8e0152\"],[0.1,\"#c51b7d\"],[0.2,\"#de77ae\"],[0.3,\"#f1b6da\"],[0.4,\"#fde0ef\"],[0.5,\"#f7f7f7\"],[0.6,\"#e6f5d0\"],[0.7,\"#b8e186\"],[0.8,\"#7fbc41\"],[0.9,\"#4d9221\"],[1,\"#276419\"]]},\"xaxis\":{\"gridcolor\":\"white\",\"linecolor\":\"white\",\"ticks\":\"\",\"title\":{\"standoff\":15},\"zerolinecolor\":\"white\",\"automargin\":true,\"zerolinewidth\":2},\"yaxis\":{\"gridcolor\":\"white\",\"linecolor\":\"white\",\"ticks\":\"\",\"title\":{\"standoff\":15},\"zerolinecolor\":\"white\",\"automargin\":true,\"zerolinewidth\":2},\"scene\":{\"xaxis\":{\"backgroundcolor\":\"#E5ECF6\",\"gridcolor\":\"white\",\"linecolor\":\"white\",\"showbackground\":true,\"ticks\":\"\",\"zerolinecolor\":\"white\",\"gridwidth\":2},\"yaxis\":{\"backgroundcolor\":\"#E5ECF6\",\"gridcolor\":\"white\",\"linecolor\":\"white\",\"showbackground\":true,\"ticks\":\"\",\"zerolinecolor\":\"white\",\"gridwidth\":2},\"zaxis\":{\"backgroundcolor\":\"#E5ECF6\",\"gridcolor\":\"white\",\"linecolor\":\"white\",\"showbackground\":true,\"ticks\":\"\",\"zerolinecolor\":\"white\",\"gridwidth\":2}},\"shapedefaults\":{\"line\":{\"color\":\"#2a3f5f\"}},\"annotationdefaults\":{\"arrowcolor\":\"#2a3f5f\",\"arrowhead\":0,\"arrowwidth\":1},\"geo\":{\"bgcolor\":\"white\",\"landcolor\":\"#E5ECF6\",\"subunitcolor\":\"white\",\"showland\":true,\"showlakes\":true,\"lakecolor\":\"white\"},\"title\":{\"x\":0.05},\"mapbox\":{\"style\":\"light\"}}},\"xaxis\":{\"anchor\":\"y\",\"domain\":[0.0,1.0],\"title\":{\"text\":\"date\"}},\"yaxis\":{\"anchor\":\"x\",\"domain\":[0.0,1.0],\"title\":{\"text\":\"ev_profit\"}},\"legend\":{\"tracegroupgap\":0},\"margin\":{\"t\":60}},                        {\"responsive\": true}                    ).then(function(){\n",
       "                            \n",
       "var gd = document.getElementById('d424029d-ba9d-45f8-85a8-29c482e5f6d1');\n",
       "var x = new MutationObserver(function (mutations, observer) {{\n",
       "        var display = window.getComputedStyle(gd).display;\n",
       "        if (!display || display === 'none') {{\n",
       "            console.log([gd, 'removed!']);\n",
       "            Plotly.purge(gd);\n",
       "            observer.disconnect();\n",
       "        }}\n",
       "}});\n",
       "\n",
       "// Listen for the removal of the full notebook cells\n",
       "var notebookContainer = gd.closest('#notebook-container');\n",
       "if (notebookContainer) {{\n",
       "    x.observe(notebookContainer, {childList: true});\n",
       "}}\n",
       "\n",
       "// Listen for the clearing of the current output cell\n",
       "var outputEl = gd.closest('.output');\n",
       "if (outputEl) {{\n",
       "    x.observe(outputEl, {childList: true});\n",
       "}}\n",
       "\n",
       "                        })                };                });            </script>        </div>"
      ]
     },
     "metadata": {},
     "output_type": "display_data"
    }
   ],
   "source": [
    "ev_bets = ev_bets.groupby([\"date\"]).mean(numeric_only=True)\n",
    "favorite_bets = favorite_bets.groupby([\"date\"]).mean(numeric_only=True)\n",
    "underdog_bets = underdog_bets.groupby([\"date\"]).mean(numeric_only=True)\n",
    "\n",
    "fig = px.scatter(ev_bets, x=ev_bets.index, y=\"ev_profit\")\n",
    "fig.add_scatter(x=favorite_bets.index, y=favorite_bets[\"favorite\"], mode=\"markers\", name=\"Betting Favorite\")\n",
    "fig.add_scatter(x=underdog_bets.index, y=underdog_bets[\"underdog\"], mode=\"markers\", name=\"Underdog\")\n",
    "fig.show()"
   ]
  },
  {
   "cell_type": "code",
   "execution_count": null,
   "id": "f9e62103",
   "metadata": {},
   "outputs": [],
   "source": []
  }
 ],
 "metadata": {
  "kernelspec": {
   "display_name": "Python 3 (ipykernel)",
   "language": "python",
   "name": "python3"
  },
  "language_info": {
   "codemirror_mode": {
    "name": "ipython",
    "version": 3
   },
   "file_extension": ".py",
   "mimetype": "text/x-python",
   "name": "python",
   "nbconvert_exporter": "python",
   "pygments_lexer": "ipython3",
   "version": "3.11.3"
  }
 },
 "nbformat": 4,
 "nbformat_minor": 5
}
